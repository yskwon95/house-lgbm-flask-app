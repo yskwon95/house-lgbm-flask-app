{
  "nbformat": 4,
  "nbformat_minor": 0,
  "metadata": {
    "colab": {
      "name": "house-price-prediction.ipynb",
      "provenance": [],
      "collapsed_sections": []
    },
    "kernelspec": {
      "display_name": "Python 3",
      "language": "python",
      "name": "python3"
    },
    "language_info": {
      "codemirror_mode": {
        "name": "ipython",
        "version": 3
      },
      "file_extension": ".py",
      "mimetype": "text/x-python",
      "name": "python",
      "nbconvert_exporter": "python",
      "pygments_lexer": "ipython3",
      "version": "3.8.5"
    }
  },
  "cells": [
    {
      "cell_type": "markdown",
      "metadata": {
        "id": "aKGTyVSTLfob"
      },
      "source": [
        "# 1. 데이터 준비"
      ]
    },
    {
      "cell_type": "markdown",
      "metadata": {
        "id": "jb1iJe-XLbji"
      },
      "source": [
        "## 필수패키지 설치"
      ]
    },
    {
      "cell_type": "code",
      "metadata": {
        "colab": {
          "base_uri": "https://localhost:8080/"
        },
        "id": "IXtCLmROLTaZ",
        "outputId": "b80c7ede-d419-43f9-86c6-26bb27f919ed"
      },
      "source": [
        "!pip install PublicDataReader\n",
        "!pip install PublicDataReader --upgrade\n",
        "!pip install finance-datareader\n",
        "!sudo apt-get install -y fonts-nanum\n",
        "!sudo fc-cache -fv\n",
        "!rm ~/.cache/matplotlib -rf\n",
        "! pip install category_encoders\n",
        "import seaborn as sns\n",
        "import matplotlib.pyplot as plt\n",
        "import matplotlib as mpl\n",
        "import FinanceDataReader as fdr\n",
        "import PublicDataReader as pdr\n",
        "import pandas as pd\n",
        "import numpy as np\n",
        "from sklearn.metrics import mean_absolute_error\n",
        "from sklearn.pipeline import make_pipeline\n",
        "from category_encoders import OrdinalEncoder\n",
        "from sklearn.model_selection import train_test_split\n",
        "import warnings\n",
        "warnings.filterwarnings(action='ignore')\n",
        "plt.rc('font', family='NanumBarunGothic') \n",
        "mpl.rc('axes', unicode_minus=False)\n",
        "plt.rcParams[\"font.family\"] = 'nanummyeongjo'\n",
        "plt.rcParams[\"axes.grid\"] = True\n",
        "plt.rcParams[\"figure.figsize\"] = (12,6)\n",
        "plt.rcParams[\"axes.formatter.useoffset\"] = False\n",
        "plt.rcParams['axes.unicode_minus'] = False\n",
        "plt.rcParams[\"axes.formatter.limits\"] = -10000, 10000\n",
        "%matplotlib inline\n",
        "%config InlineBackend.figure_format='retina'"
      ],
      "execution_count": null,
      "outputs": [
        {
          "output_type": "stream",
          "text": [
            "Requirement already satisfied: PublicDataReader in /usr/local/lib/python3.7/dist-packages (2021.1.9)\n",
            "Requirement already up-to-date: PublicDataReader in /usr/local/lib/python3.7/dist-packages (2021.1.9)\n",
            "Requirement already satisfied: finance-datareader in /usr/local/lib/python3.7/dist-packages (0.9.31)\n",
            "Requirement already satisfied: lxml in /usr/local/lib/python3.7/dist-packages (from finance-datareader) (4.2.6)\n",
            "Requirement already satisfied: requests-file in /usr/local/lib/python3.7/dist-packages (from finance-datareader) (1.5.1)\n",
            "Requirement already satisfied: requests>=2.3.0 in /usr/local/lib/python3.7/dist-packages (from finance-datareader) (2.23.0)\n",
            "Requirement already satisfied: pandas>=0.19.2 in /usr/local/lib/python3.7/dist-packages (from finance-datareader) (1.1.5)\n",
            "Requirement already satisfied: tqdm in /usr/local/lib/python3.7/dist-packages (from finance-datareader) (4.41.1)\n",
            "Requirement already satisfied: six in /usr/local/lib/python3.7/dist-packages (from requests-file->finance-datareader) (1.15.0)\n",
            "Requirement already satisfied: chardet<4,>=3.0.2 in /usr/local/lib/python3.7/dist-packages (from requests>=2.3.0->finance-datareader) (3.0.4)\n",
            "Requirement already satisfied: urllib3!=1.25.0,!=1.25.1,<1.26,>=1.21.1 in /usr/local/lib/python3.7/dist-packages (from requests>=2.3.0->finance-datareader) (1.24.3)\n",
            "Requirement already satisfied: certifi>=2017.4.17 in /usr/local/lib/python3.7/dist-packages (from requests>=2.3.0->finance-datareader) (2020.12.5)\n",
            "Requirement already satisfied: idna<3,>=2.5 in /usr/local/lib/python3.7/dist-packages (from requests>=2.3.0->finance-datareader) (2.10)\n",
            "Requirement already satisfied: numpy>=1.15.4 in /usr/local/lib/python3.7/dist-packages (from pandas>=0.19.2->finance-datareader) (1.19.5)\n",
            "Requirement already satisfied: pytz>=2017.2 in /usr/local/lib/python3.7/dist-packages (from pandas>=0.19.2->finance-datareader) (2018.9)\n",
            "Requirement already satisfied: python-dateutil>=2.7.3 in /usr/local/lib/python3.7/dist-packages (from pandas>=0.19.2->finance-datareader) (2.8.1)\n",
            "Reading package lists... Done\n",
            "Building dependency tree       \n",
            "Reading state information... Done\n",
            "fonts-nanum is already the newest version (20170925-1).\n",
            "0 upgraded, 0 newly installed, 0 to remove and 30 not upgraded.\n",
            "/usr/share/fonts: caching, new cache contents: 0 fonts, 1 dirs\n",
            "/usr/share/fonts/truetype: caching, new cache contents: 0 fonts, 3 dirs\n",
            "/usr/share/fonts/truetype/humor-sans: caching, new cache contents: 1 fonts, 0 dirs\n",
            "/usr/share/fonts/truetype/liberation: caching, new cache contents: 16 fonts, 0 dirs\n",
            "/usr/share/fonts/truetype/nanum: caching, new cache contents: 10 fonts, 0 dirs\n",
            "/usr/local/share/fonts: caching, new cache contents: 0 fonts, 0 dirs\n",
            "/root/.local/share/fonts: skipping, no such directory\n",
            "/root/.fonts: skipping, no such directory\n",
            "/var/cache/fontconfig: cleaning cache directory\n",
            "/root/.cache/fontconfig: not cleaning non-existent cache directory\n",
            "/root/.fontconfig: not cleaning non-existent cache directory\n",
            "fc-cache: succeeded\n",
            "Collecting category_encoders\n",
            "\u001b[?25l  Downloading https://files.pythonhosted.org/packages/44/57/fcef41c248701ee62e8325026b90c432adea35555cbc870aff9cfba23727/category_encoders-2.2.2-py2.py3-none-any.whl (80kB)\n",
            "\u001b[K     |████████████████████████████████| 81kB 3.8MB/s \n",
            "\u001b[?25hRequirement already satisfied: pandas>=0.21.1 in /usr/local/lib/python3.7/dist-packages (from category_encoders) (1.1.5)\n",
            "Requirement already satisfied: statsmodels>=0.9.0 in /usr/local/lib/python3.7/dist-packages (from category_encoders) (0.10.2)\n",
            "Requirement already satisfied: scikit-learn>=0.20.0 in /usr/local/lib/python3.7/dist-packages (from category_encoders) (0.22.2.post1)\n",
            "Requirement already satisfied: numpy>=1.14.0 in /usr/local/lib/python3.7/dist-packages (from category_encoders) (1.19.5)\n",
            "Requirement already satisfied: scipy>=1.0.0 in /usr/local/lib/python3.7/dist-packages (from category_encoders) (1.4.1)\n",
            "Requirement already satisfied: patsy>=0.5.1 in /usr/local/lib/python3.7/dist-packages (from category_encoders) (0.5.1)\n",
            "Requirement already satisfied: pytz>=2017.2 in /usr/local/lib/python3.7/dist-packages (from pandas>=0.21.1->category_encoders) (2018.9)\n",
            "Requirement already satisfied: python-dateutil>=2.7.3 in /usr/local/lib/python3.7/dist-packages (from pandas>=0.21.1->category_encoders) (2.8.1)\n",
            "Requirement already satisfied: joblib>=0.11 in /usr/local/lib/python3.7/dist-packages (from scikit-learn>=0.20.0->category_encoders) (1.0.1)\n",
            "Requirement already satisfied: six in /usr/local/lib/python3.7/dist-packages (from patsy>=0.5.1->category_encoders) (1.15.0)\n",
            "Installing collected packages: category-encoders\n",
            "Successfully installed category-encoders-2.2.2\n"
          ],
          "name": "stdout"
        }
      ]
    },
    {
      "cell_type": "markdown",
      "metadata": {
        "id": "QjcckasHLnd2"
      },
      "source": [
        "## 1.1 데이터 수집 및 랭글링"
      ]
    },
    {
      "cell_type": "code",
      "metadata": {
        "id": "9sDhp9U5ObG6"
      },
      "source": [
        "## data 불러오기\n",
        "data = pd.read_csv('/content/drive/MyDrive/final_data (1).csv')\n",
        "df = data.copy()\n",
        "df = df.drop(columns=['Unnamed: 0','거래일'])\n",
        "num_feature = ['세대','인구','자동차등록','인구이동(전입지별)',\n",
        "               '출생아수(명)', '사망자수(명)' ,'혼인건수(건)','이혼건수(건)']\n",
        "for col in num_feature:\n",
        "  df[col] = df[col].str.replace(\",\",\"\").astype(int)\n",
        "df['평당가'] = df['거래금액'] / df['전용면적']\n",
        "df['거래횟수'] = [1]*len(df.index)"
      ],
      "execution_count": null,
      "outputs": []
    },
    {
      "cell_type": "code",
      "metadata": {
        "colab": {
          "base_uri": "https://localhost:8080/",
          "height": 824
        },
        "id": "mDaO4bDJOcRn",
        "outputId": "8e44e570-9fb2-45ce-da3d-13068c63287f"
      },
      "source": [
        "## 구별K 선정\n",
        "from sklearn.cluster import KMeans\n",
        "구별랭킹 = pd.concat([df.groupby('지역코드').mean()[['평당가','거래금액']].sort_values('평당가',ascending=False),                 \n",
        "                      df.groupby('지역코드').sum()[['거래횟수']]],\n",
        "                      axis = 1)\n",
        "kmeans = KMeans(n_clusters=5)\n",
        "kmeans.fit(구별랭킹)\n",
        "구별랭킹['구별K'] = kmeans.labels_\n",
        "구별랭킹"
      ],
      "execution_count": null,
      "outputs": [
        {
          "output_type": "execute_result",
          "data": {
            "text/html": [
              "<div>\n",
              "<style scoped>\n",
              "    .dataframe tbody tr th:only-of-type {\n",
              "        vertical-align: middle;\n",
              "    }\n",
              "\n",
              "    .dataframe tbody tr th {\n",
              "        vertical-align: top;\n",
              "    }\n",
              "\n",
              "    .dataframe thead th {\n",
              "        text-align: right;\n",
              "    }\n",
              "</style>\n",
              "<table border=\"1\" class=\"dataframe\">\n",
              "  <thead>\n",
              "    <tr style=\"text-align: right;\">\n",
              "      <th></th>\n",
              "      <th>평당가</th>\n",
              "      <th>거래금액</th>\n",
              "      <th>거래횟수</th>\n",
              "      <th>구별K</th>\n",
              "    </tr>\n",
              "  </thead>\n",
              "  <tbody>\n",
              "    <tr>\n",
              "      <th>강남구</th>\n",
              "      <td>1965.900547</td>\n",
              "      <td>172790.735915</td>\n",
              "      <td>12265</td>\n",
              "      <td>3</td>\n",
              "    </tr>\n",
              "    <tr>\n",
              "      <th>서초구</th>\n",
              "      <td>1726.341862</td>\n",
              "      <td>163525.710964</td>\n",
              "      <td>9850</td>\n",
              "      <td>3</td>\n",
              "    </tr>\n",
              "    <tr>\n",
              "      <th>송파구</th>\n",
              "      <td>1423.073380</td>\n",
              "      <td>117229.070079</td>\n",
              "      <td>15240</td>\n",
              "      <td>1</td>\n",
              "    </tr>\n",
              "    <tr>\n",
              "      <th>용산구</th>\n",
              "      <td>1417.798535</td>\n",
              "      <td>145481.003948</td>\n",
              "      <td>4812</td>\n",
              "      <td>3</td>\n",
              "    </tr>\n",
              "    <tr>\n",
              "      <th>성동구</th>\n",
              "      <td>1266.980612</td>\n",
              "      <td>98494.772688</td>\n",
              "      <td>9344</td>\n",
              "      <td>4</td>\n",
              "    </tr>\n",
              "    <tr>\n",
              "      <th>마포구</th>\n",
              "      <td>1191.961147</td>\n",
              "      <td>90848.400701</td>\n",
              "      <td>8842</td>\n",
              "      <td>4</td>\n",
              "    </tr>\n",
              "    <tr>\n",
              "      <th>광진구</th>\n",
              "      <td>1114.909593</td>\n",
              "      <td>93132.966703</td>\n",
              "      <td>4535</td>\n",
              "      <td>4</td>\n",
              "    </tr>\n",
              "    <tr>\n",
              "      <th>동작구</th>\n",
              "      <td>1071.001067</td>\n",
              "      <td>85849.420518</td>\n",
              "      <td>8461</td>\n",
              "      <td>4</td>\n",
              "    </tr>\n",
              "    <tr>\n",
              "      <th>영등포구</th>\n",
              "      <td>1029.975473</td>\n",
              "      <td>78392.765241</td>\n",
              "      <td>10121</td>\n",
              "      <td>2</td>\n",
              "    </tr>\n",
              "    <tr>\n",
              "      <th>강동구</th>\n",
              "      <td>1027.079886</td>\n",
              "      <td>75117.814662</td>\n",
              "      <td>12399</td>\n",
              "      <td>2</td>\n",
              "    </tr>\n",
              "    <tr>\n",
              "      <th>중구</th>\n",
              "      <td>1011.835658</td>\n",
              "      <td>79091.760355</td>\n",
              "      <td>3380</td>\n",
              "      <td>2</td>\n",
              "    </tr>\n",
              "    <tr>\n",
              "      <th>양천구</th>\n",
              "      <td>1000.926721</td>\n",
              "      <td>80106.613279</td>\n",
              "      <td>11507</td>\n",
              "      <td>2</td>\n",
              "    </tr>\n",
              "    <tr>\n",
              "      <th>종로구</th>\n",
              "      <td>946.691028</td>\n",
              "      <td>74959.540149</td>\n",
              "      <td>2142</td>\n",
              "      <td>2</td>\n",
              "    </tr>\n",
              "    <tr>\n",
              "      <th>서대문구</th>\n",
              "      <td>904.409304</td>\n",
              "      <td>68237.382385</td>\n",
              "      <td>8209</td>\n",
              "      <td>2</td>\n",
              "    </tr>\n",
              "    <tr>\n",
              "      <th>강서구</th>\n",
              "      <td>859.112329</td>\n",
              "      <td>61072.219892</td>\n",
              "      <td>15021</td>\n",
              "      <td>0</td>\n",
              "    </tr>\n",
              "    <tr>\n",
              "      <th>동대문구</th>\n",
              "      <td>848.548937</td>\n",
              "      <td>59769.149452</td>\n",
              "      <td>8752</td>\n",
              "      <td>0</td>\n",
              "    </tr>\n",
              "    <tr>\n",
              "      <th>성북구</th>\n",
              "      <td>769.144509</td>\n",
              "      <td>58858.286911</td>\n",
              "      <td>12774</td>\n",
              "      <td>0</td>\n",
              "    </tr>\n",
              "    <tr>\n",
              "      <th>관악구</th>\n",
              "      <td>760.426104</td>\n",
              "      <td>54469.209824</td>\n",
              "      <td>8021</td>\n",
              "      <td>0</td>\n",
              "    </tr>\n",
              "    <tr>\n",
              "      <th>은평구</th>\n",
              "      <td>734.623953</td>\n",
              "      <td>55065.121912</td>\n",
              "      <td>9351</td>\n",
              "      <td>0</td>\n",
              "    </tr>\n",
              "    <tr>\n",
              "      <th>노원구</th>\n",
              "      <td>726.248617</td>\n",
              "      <td>45667.180333</td>\n",
              "      <td>25464</td>\n",
              "      <td>0</td>\n",
              "    </tr>\n",
              "    <tr>\n",
              "      <th>구로구</th>\n",
              "      <td>697.858907</td>\n",
              "      <td>49927.368378</td>\n",
              "      <td>13478</td>\n",
              "      <td>0</td>\n",
              "    </tr>\n",
              "    <tr>\n",
              "      <th>강북구</th>\n",
              "      <td>674.652714</td>\n",
              "      <td>49009.045639</td>\n",
              "      <td>5653</td>\n",
              "      <td>0</td>\n",
              "    </tr>\n",
              "    <tr>\n",
              "      <th>중랑구</th>\n",
              "      <td>657.136930</td>\n",
              "      <td>45164.718913</td>\n",
              "      <td>8243</td>\n",
              "      <td>0</td>\n",
              "    </tr>\n",
              "    <tr>\n",
              "      <th>금천구</th>\n",
              "      <td>634.319841</td>\n",
              "      <td>43204.616049</td>\n",
              "      <td>4860</td>\n",
              "      <td>0</td>\n",
              "    </tr>\n",
              "    <tr>\n",
              "      <th>도봉구</th>\n",
              "      <td>601.020968</td>\n",
              "      <td>41282.194681</td>\n",
              "      <td>11732</td>\n",
              "      <td>0</td>\n",
              "    </tr>\n",
              "  </tbody>\n",
              "</table>\n",
              "</div>"
            ],
            "text/plain": [
              "              평당가           거래금액   거래횟수  구별K\n",
              "강남구   1965.900547  172790.735915  12265    3\n",
              "서초구   1726.341862  163525.710964   9850    3\n",
              "송파구   1423.073380  117229.070079  15240    1\n",
              "용산구   1417.798535  145481.003948   4812    3\n",
              "성동구   1266.980612   98494.772688   9344    4\n",
              "마포구   1191.961147   90848.400701   8842    4\n",
              "광진구   1114.909593   93132.966703   4535    4\n",
              "동작구   1071.001067   85849.420518   8461    4\n",
              "영등포구  1029.975473   78392.765241  10121    2\n",
              "강동구   1027.079886   75117.814662  12399    2\n",
              "중구    1011.835658   79091.760355   3380    2\n",
              "양천구   1000.926721   80106.613279  11507    2\n",
              "종로구    946.691028   74959.540149   2142    2\n",
              "서대문구   904.409304   68237.382385   8209    2\n",
              "강서구    859.112329   61072.219892  15021    0\n",
              "동대문구   848.548937   59769.149452   8752    0\n",
              "성북구    769.144509   58858.286911  12774    0\n",
              "관악구    760.426104   54469.209824   8021    0\n",
              "은평구    734.623953   55065.121912   9351    0\n",
              "노원구    726.248617   45667.180333  25464    0\n",
              "구로구    697.858907   49927.368378  13478    0\n",
              "강북구    674.652714   49009.045639   5653    0\n",
              "중랑구    657.136930   45164.718913   8243    0\n",
              "금천구    634.319841   43204.616049   4860    0\n",
              "도봉구    601.020968   41282.194681  11732    0"
            ]
          },
          "metadata": {
            "tags": []
          },
          "execution_count": 5
        }
      ]
    },
    {
      "cell_type": "code",
      "metadata": {
        "id": "qsN24LpPOlxU"
      },
      "source": [
        "## 매핑\n",
        "gu_mapper = {gu:k for gu,k in zip(구별랭킹.index,구별랭킹.구별K)}\n",
        "df['구별K'] = df['지역코드'].copy()\n",
        "df['구별K'] = df['구별K'].replace(gu_mapper)"
      ],
      "execution_count": null,
      "outputs": []
    },
    {
      "cell_type": "code",
      "metadata": {
        "id": "MqvX4hU4OoCA"
      },
      "source": [
        "## 컬럼명 지정 및 drop\n",
        "dataset = df.drop(columns=['거래횟수','평당가','지번','-\\xa0집세'])\n",
        "dataset.columns = ['지역코드', '법정동', '아파트', '전용면적', '층', '건축년도', '거래금액', '거래년도', '거래월일', '세대',\n",
        "       '인구', '세대당인구', '자동차등록', '인구이동(전입지별)', '외국인증권투자', '국고채 3년(평균)',\n",
        "       '국고채 5년(평균)', '국고채 10년(평균)', '회사채 3년(평균)', 'CD 91물(평균)', '콜금리(1일물,평균)',\n",
        "       '소비자물가', '- 농축수산물', '- 공업제품', '- 공공서비스', '- 개인서비스', '근원물가', '출생아수(명)',\n",
        "       '사망자수(명)', '혼인건수(건)', '이혼건수(건)', 'KS11', 'KQ11', 'DJI', 'IXIC', 'VIX',\n",
        "       'CSI300', 'SSEC', 'DE30', 'FCHI', 'NG', 'GC', 'HG', 'CL', '구별K']\n",
        "\n",
        "dataset = dataset.drop(columns=['세대당인구','국고채 3년(평균)','국고채 5년(평균)','- 개인서비스','콜금리(1일물,평균)','CSI300','HG'])"
      ],
      "execution_count": null,
      "outputs": []
    },
    {
      "cell_type": "code",
      "metadata": {
        "id": "JglCeikvOrHK"
      },
      "source": [
        "## engine함수\n",
        "def engine(xxx):\n",
        "  xxx['KRX'] = xxx.KS11 + xxx.KQ11\n",
        "  xxx = xxx.drop(columns=['KS11','KQ11'])\n",
        "  return xxx"
      ],
      "execution_count": null,
      "outputs": []
    },
    {
      "cell_type": "code",
      "metadata": {
        "colab": {
          "base_uri": "https://localhost:8080/"
        },
        "id": "k5wUOlH7OsoC",
        "outputId": "19b66e3a-b109-4541-8cee-707705956545"
      },
      "source": [
        "df.shape"
      ],
      "execution_count": null,
      "outputs": [
        {
          "output_type": "execute_result",
          "data": {
            "text/plain": [
              "(244456, 49)"
            ]
          },
          "metadata": {
            "tags": []
          },
          "execution_count": 9
        }
      ]
    },
    {
      "cell_type": "code",
      "metadata": {
        "colab": {
          "base_uri": "https://localhost:8080/"
        },
        "id": "pHDP48yUOtsc",
        "outputId": "033ba16a-fed2-4f09-a36e-a332c4474923"
      },
      "source": [
        "## dataset에 적용\n",
        "DF_1 = engine(dataset.copy())\n",
        "DF_1.shape"
      ],
      "execution_count": null,
      "outputs": [
        {
          "output_type": "execute_result",
          "data": {
            "text/plain": [
              "(244456, 37)"
            ]
          },
          "metadata": {
            "tags": []
          },
          "execution_count": 10
        }
      ]
    },
    {
      "cell_type": "code",
      "metadata": {
        "id": "LhQnPimxOwFG"
      },
      "source": [
        "dataset = DF_1"
      ],
      "execution_count": null,
      "outputs": []
    },
    {
      "cell_type": "markdown",
      "metadata": {
        "id": "B9m12MAbO_hv"
      },
      "source": [
        "# 2. 모델링"
      ]
    },
    {
      "cell_type": "markdown",
      "metadata": {
        "id": "pkTW9ek_PVzh"
      },
      "source": [
        "## 2.1 훈련 검증 테스트"
      ]
    },
    {
      "cell_type": "code",
      "metadata": {
        "colab": {
          "base_uri": "https://localhost:8080/"
        },
        "id": "V59cP882OyBQ",
        "outputId": "ebe7a5e6-3b8c-4ddf-da70-348fab4afc96"
      },
      "source": [
        "## 2021년 기준으로 분리\n",
        "target='거래금액'\n",
        "train = dataset[(dataset.거래월일 != '2021-01') | (dataset.거래월일 != '2021-02')].copy()\n",
        "test = dataset[(dataset.거래월일 == '2021-01') | (dataset.거래월일 == '2021-02')].copy()\n",
        "print(train.shape,test.shape)\n",
        "print(test.거래월일.value_counts())"
      ],
      "execution_count": null,
      "outputs": [
        {
          "output_type": "stream",
          "text": [
            "(244456, 37) (5248, 37)\n",
            "2021-01    4826\n",
            "2021-02     422\n",
            "Name: 거래월일, dtype: int64\n"
          ],
          "name": "stdout"
        }
      ]
    },
    {
      "cell_type": "code",
      "metadata": {
        "id": "EWkZb2mDO0jD"
      },
      "source": [
        "## 2021년 이전 데이터를 훈련, 검증셋으로 분리\n",
        "X = train.drop(columns=target)\n",
        "y = train[target]\n",
        "X_test = test.drop(columns=target)\n",
        "y_test = test[target]\n",
        "X_train, X_val, y_train, y_val = train_test_split(X, y, test_size=0.2, random_state=1)"
      ],
      "execution_count": null,
      "outputs": []
    },
    {
      "cell_type": "markdown",
      "metadata": {
        "id": "LHt9yd1HPb1S"
      },
      "source": [
        "## 2.2 LGBM"
      ]
    },
    {
      "cell_type": "code",
      "metadata": {
        "colab": {
          "base_uri": "https://localhost:8080/"
        },
        "id": "rgBS5VY8O75N",
        "outputId": "c4faafb6-4b2e-47d4-e1a4-3dfdaab8806f"
      },
      "source": [
        "## 모델은 LGBM으로 선정\n",
        "from lightgbm import LGBMRegressor\n",
        "pipe = make_pipeline(\n",
        "    OrdinalEncoder(), \n",
        "    LGBMRegressor()\n",
        ")\n",
        "\n",
        "pipe.fit(X_train, y_train)\n",
        "print('훈련 R^2: ', pipe.score(X_train, y_train))\n",
        "print('검증 R^2: ', pipe.score(X_val, y_val))\n",
        "print('TEST R^2: ', pipe.score(X_test, y_test))\n",
        "\n",
        "print('\\n훈련 MAE: ', mean_absolute_error(pipe.predict(X_train), y_train))\n",
        "print('검증 MAE: ', mean_absolute_error(pipe.predict(X_val), y_val))\n",
        "print('TEST MAE: ', mean_absolute_error(pipe.predict(X_test), y_test))"
      ],
      "execution_count": null,
      "outputs": [
        {
          "output_type": "stream",
          "text": [
            "훈련 R^2:  0.9326590653021218\n",
            "검증 R^2:  0.9269560422813437\n",
            "TEST R^2:  0.9157480752961789\n",
            "\n",
            "훈련 MAE:  9753.15598992995\n",
            "검증 MAE:  9949.212051390085\n",
            "TEST MAE:  13514.29630264313\n"
          ],
          "name": "stdout"
        }
      ]
    },
    {
      "cell_type": "markdown",
      "metadata": {
        "id": "GpggFhG-PwKx"
      },
      "source": [
        "## 2.3 TUNE"
      ]
    },
    {
      "cell_type": "code",
      "metadata": {
        "id": "XUNewz4gP0V-"
      },
      "source": [
        "## 인코딩\n",
        "encoder = OrdinalEncoder()\n",
        "X_train_encoded = encoder.fit_transform(X_train)\n",
        "X_val_encoded = encoder.transform(X_val)\n",
        "X_test_encoded = encoder.transform(X_test)"
      ],
      "execution_count": null,
      "outputs": []
    },
    {
      "cell_type": "code",
      "metadata": {
        "colab": {
          "base_uri": "https://localhost:8080/"
        },
        "id": "i_iW-QgkP1Le",
        "outputId": "95725333-ea99-4301-8906-48474eeb347d"
      },
      "source": [
        "## 파라미터 튜닝\n",
        "lightGB = LGBMRegressor(learning_rate=0.01, max_depth=15, n_estimators=300000, num_leaves=250,\n",
        "                      random_state=1, reg_alpha=1, reg_lambda=1, subsample=0.7)\n",
        "\n",
        "eval_set = [(X_train_encoded, y_train),\n",
        "            (X_val_encoded,y_val), \n",
        "            (X_test_encoded, y_test)]\n",
        "\n",
        "lightGB.fit(X_train_encoded, y_train, \n",
        "          eval_set=eval_set,\n",
        "          early_stopping_rounds=1000,\n",
        "          eval_metric='mae',\n",
        "          verbose=100\n",
        "         )"
      ],
      "execution_count": null,
      "outputs": [
        {
          "output_type": "stream",
          "text": [
            "Training until validation scores don't improve for 1000 rounds.\n",
            "[100]\ttraining's l1: 18355.6\ttraining's l2: 6.78441e+08\tvalid_1's l1: 18536\tvalid_1's l2: 7.01726e+08\tvalid_2's l1: 24222.4\tvalid_2's l2: 1.29154e+09\n",
            "[200]\ttraining's l1: 11779.5\ttraining's l2: 2.73829e+08\tvalid_1's l1: 12084.5\tvalid_1's l2: 3.00897e+08\tvalid_2's l1: 16694.3\tvalid_2's l2: 5.64037e+08\n",
            "[300]\ttraining's l1: 9229.21\ttraining's l2: 1.7319e+08\tvalid_1's l1: 9613.82\tvalid_1's l2: 2.0364e+08\tvalid_2's l1: 13430.3\tvalid_2's l2: 3.5566e+08\n",
            "[400]\ttraining's l1: 7994.8\ttraining's l2: 1.33862e+08\tvalid_1's l1: 8428.5\tvalid_1's l2: 1.66553e+08\tvalid_2's l1: 11666\tvalid_2's l2: 2.72177e+08\n",
            "[500]\ttraining's l1: 7275.69\ttraining's l2: 1.13551e+08\tvalid_1's l1: 7744.67\tvalid_1's l2: 1.47611e+08\tvalid_2's l1: 10542\tvalid_2's l2: 2.2754e+08\n",
            "[600]\ttraining's l1: 6751.49\ttraining's l2: 9.96561e+07\tvalid_1's l1: 7247.29\tvalid_1's l2: 1.34834e+08\tvalid_2's l1: 9923.58\tvalid_2's l2: 2.03788e+08\n",
            "[700]\ttraining's l1: 6309.75\ttraining's l2: 8.86111e+07\tvalid_1's l1: 6834.12\tvalid_1's l2: 1.24635e+08\tvalid_2's l1: 9445.68\tvalid_2's l2: 1.86873e+08\n",
            "[800]\ttraining's l1: 5965.14\ttraining's l2: 8.02211e+07\tvalid_1's l1: 6513.28\tvalid_1's l2: 1.16706e+08\tvalid_2's l1: 9054.52\tvalid_2's l2: 1.73263e+08\n",
            "[900]\ttraining's l1: 5692.91\ttraining's l2: 7.34626e+07\tvalid_1's l1: 6267.63\tvalid_1's l2: 1.10606e+08\tvalid_2's l1: 8712.56\tvalid_2's l2: 1.61374e+08\n",
            "[1000]\ttraining's l1: 5468.79\ttraining's l2: 6.80449e+07\tvalid_1's l1: 6074.14\tvalid_1's l2: 1.05926e+08\tvalid_2's l1: 8406.61\tvalid_2's l2: 1.51127e+08\n",
            "[1100]\ttraining's l1: 5278.84\ttraining's l2: 6.3772e+07\tvalid_1's l1: 5914.79\tvalid_1's l2: 1.02477e+08\tvalid_2's l1: 8136.95\tvalid_2's l2: 1.42705e+08\n",
            "[1200]\ttraining's l1: 5116.06\ttraining's l2: 6.02663e+07\tvalid_1's l1: 5779.21\tvalid_1's l2: 9.96243e+07\tvalid_2's l1: 7918.93\tvalid_2's l2: 1.36176e+08\n",
            "[1300]\ttraining's l1: 4978.03\ttraining's l2: 5.72448e+07\tvalid_1's l1: 5669.11\tvalid_1's l2: 9.74094e+07\tvalid_2's l1: 7743.81\tvalid_2's l2: 1.30851e+08\n",
            "[1400]\ttraining's l1: 4848.65\ttraining's l2: 5.44038e+07\tvalid_1's l1: 5567.01\tvalid_1's l2: 9.5257e+07\tvalid_2's l1: 7575.03\tvalid_2's l2: 1.25748e+08\n",
            "[1500]\ttraining's l1: 4727.02\ttraining's l2: 5.1948e+07\tvalid_1's l1: 5469.61\tvalid_1's l2: 9.33695e+07\tvalid_2's l1: 7375.83\tvalid_2's l2: 1.20265e+08\n",
            "[1600]\ttraining's l1: 4613.6\ttraining's l2: 4.96499e+07\tvalid_1's l1: 5379.89\tvalid_1's l2: 9.16139e+07\tvalid_2's l1: 7200.21\tvalid_2's l2: 1.15437e+08\n",
            "[1700]\ttraining's l1: 4511.43\ttraining's l2: 4.76381e+07\tvalid_1's l1: 5301.18\tvalid_1's l2: 9.0135e+07\tvalid_2's l1: 7047.02\tvalid_2's l2: 1.11338e+08\n",
            "[1800]\ttraining's l1: 4423.66\ttraining's l2: 4.59412e+07\tvalid_1's l1: 5234.11\tvalid_1's l2: 8.8877e+07\tvalid_2's l1: 6919.15\tvalid_2's l2: 1.08006e+08\n",
            "[1900]\ttraining's l1: 4338.81\ttraining's l2: 4.42792e+07\tvalid_1's l1: 5172.72\tvalid_1's l2: 8.7724e+07\tvalid_2's l1: 6785.68\tvalid_2's l2: 1.04494e+08\n",
            "[2000]\ttraining's l1: 4262.82\ttraining's l2: 4.28826e+07\tvalid_1's l1: 5117.04\tvalid_1's l2: 8.67601e+07\tvalid_2's l1: 6670.75\tvalid_2's l2: 1.0164e+08\n",
            "[2100]\ttraining's l1: 4185.39\ttraining's l2: 4.14357e+07\tvalid_1's l1: 5062.81\tvalid_1's l2: 8.58264e+07\tvalid_2's l1: 6548.9\tvalid_2's l2: 9.86406e+07\n",
            "[2200]\ttraining's l1: 4118.17\ttraining's l2: 4.02136e+07\tvalid_1's l1: 5016.94\tvalid_1's l2: 8.50526e+07\tvalid_2's l1: 6455.31\tvalid_2's l2: 9.63387e+07\n",
            "[2300]\ttraining's l1: 4054.22\ttraining's l2: 3.91088e+07\tvalid_1's l1: 4973.84\tvalid_1's l2: 8.43995e+07\tvalid_2's l1: 6365.87\tvalid_2's l2: 9.42339e+07\n",
            "[2400]\ttraining's l1: 4000.27\ttraining's l2: 3.81394e+07\tvalid_1's l1: 4940.14\tvalid_1's l2: 8.38249e+07\tvalid_2's l1: 6287.69\tvalid_2's l2: 9.23595e+07\n",
            "[2500]\ttraining's l1: 3940.1\ttraining's l2: 3.7036e+07\tvalid_1's l1: 4902.42\tvalid_1's l2: 8.31808e+07\tvalid_2's l1: 6213.8\tvalid_2's l2: 9.05731e+07\n",
            "[2600]\ttraining's l1: 3890.3\ttraining's l2: 3.61404e+07\tvalid_1's l1: 4873.09\tvalid_1's l2: 8.2671e+07\tvalid_2's l1: 6143.49\tvalid_2's l2: 8.89258e+07\n",
            "[2700]\ttraining's l1: 3837.03\ttraining's l2: 3.51969e+07\tvalid_1's l1: 4840.51\tvalid_1's l2: 8.21064e+07\tvalid_2's l1: 6067.89\tvalid_2's l2: 8.71997e+07\n",
            "[2800]\ttraining's l1: 3787.02\ttraining's l2: 3.43425e+07\tvalid_1's l1: 4809.1\tvalid_1's l2: 8.16031e+07\tvalid_2's l1: 6010.47\tvalid_2's l2: 8.59973e+07\n",
            "[2900]\ttraining's l1: 3741.14\ttraining's l2: 3.35652e+07\tvalid_1's l1: 4781.3\tvalid_1's l2: 8.11487e+07\tvalid_2's l1: 5957.7\tvalid_2's l2: 8.48352e+07\n",
            "[3000]\ttraining's l1: 3697.44\ttraining's l2: 3.28651e+07\tvalid_1's l1: 4753.44\tvalid_1's l2: 8.07177e+07\tvalid_2's l1: 5903.62\tvalid_2's l2: 8.36774e+07\n",
            "[3100]\ttraining's l1: 3652.65\ttraining's l2: 3.21227e+07\tvalid_1's l1: 4726.47\tvalid_1's l2: 8.02712e+07\tvalid_2's l1: 5843.8\tvalid_2's l2: 8.23881e+07\n",
            "[3200]\ttraining's l1: 3607.98\ttraining's l2: 3.13765e+07\tvalid_1's l1: 4700.12\tvalid_1's l2: 7.98478e+07\tvalid_2's l1: 5775.47\tvalid_2's l2: 8.08974e+07\n",
            "[3300]\ttraining's l1: 3563.52\ttraining's l2: 3.06654e+07\tvalid_1's l1: 4672.56\tvalid_1's l2: 7.9408e+07\tvalid_2's l1: 5708.2\tvalid_2's l2: 7.94828e+07\n",
            "[3400]\ttraining's l1: 3523.89\ttraining's l2: 3.00263e+07\tvalid_1's l1: 4648.91\tvalid_1's l2: 7.90158e+07\tvalid_2's l1: 5658.88\tvalid_2's l2: 7.83695e+07\n",
            "[3500]\ttraining's l1: 3485.13\ttraining's l2: 2.94142e+07\tvalid_1's l1: 4626.34\tvalid_1's l2: 7.86773e+07\tvalid_2's l1: 5583.93\tvalid_2's l2: 7.68499e+07\n",
            "[3600]\ttraining's l1: 3449.66\ttraining's l2: 2.88492e+07\tvalid_1's l1: 4606.37\tvalid_1's l2: 7.83585e+07\tvalid_2's l1: 5500.5\tvalid_2's l2: 7.52042e+07\n",
            "[3700]\ttraining's l1: 3414.54\ttraining's l2: 2.83184e+07\tvalid_1's l1: 4585.85\tvalid_1's l2: 7.80571e+07\tvalid_2's l1: 5440.16\tvalid_2's l2: 7.40302e+07\n",
            "[3800]\ttraining's l1: 3382.92\ttraining's l2: 2.78316e+07\tvalid_1's l1: 4569.12\tvalid_1's l2: 7.78238e+07\tvalid_2's l1: 5402.25\tvalid_2's l2: 7.33208e+07\n",
            "[3900]\ttraining's l1: 3349.54\ttraining's l2: 2.73261e+07\tvalid_1's l1: 4551.16\tvalid_1's l2: 7.75377e+07\tvalid_2's l1: 5359.38\tvalid_2's l2: 7.24927e+07\n",
            "[4000]\ttraining's l1: 3316.08\ttraining's l2: 2.68446e+07\tvalid_1's l1: 4532.46\tvalid_1's l2: 7.72843e+07\tvalid_2's l1: 5318.66\tvalid_2's l2: 7.16819e+07\n",
            "[4100]\ttraining's l1: 3286.55\ttraining's l2: 2.63981e+07\tvalid_1's l1: 4517.55\tvalid_1's l2: 7.70659e+07\tvalid_2's l1: 5277.04\tvalid_2's l2: 7.08544e+07\n",
            "[4200]\ttraining's l1: 3256.12\ttraining's l2: 2.59698e+07\tvalid_1's l1: 4501.3\tvalid_1's l2: 7.68459e+07\tvalid_2's l1: 5238.68\tvalid_2's l2: 7.00745e+07\n",
            "[4300]\ttraining's l1: 3221.65\ttraining's l2: 2.55017e+07\tvalid_1's l1: 4479.57\tvalid_1's l2: 7.65321e+07\tvalid_2's l1: 5188.18\tvalid_2's l2: 6.91368e+07\n",
            "[4400]\ttraining's l1: 3191.84\ttraining's l2: 2.5074e+07\tvalid_1's l1: 4462.58\tvalid_1's l2: 7.631e+07\tvalid_2's l1: 5139.6\tvalid_2's l2: 6.824e+07\n",
            "[4500]\ttraining's l1: 3162.32\ttraining's l2: 2.46495e+07\tvalid_1's l1: 4446.47\tvalid_1's l2: 7.60954e+07\tvalid_2's l1: 5094.41\tvalid_2's l2: 6.74157e+07\n",
            "[4600]\ttraining's l1: 3133.67\ttraining's l2: 2.42437e+07\tvalid_1's l1: 4430.82\tvalid_1's l2: 7.58741e+07\tvalid_2's l1: 5050.47\tvalid_2's l2: 6.65905e+07\n",
            "[4700]\ttraining's l1: 3108.74\ttraining's l2: 2.38828e+07\tvalid_1's l1: 4419.16\tvalid_1's l2: 7.57108e+07\tvalid_2's l1: 5015.82\tvalid_2's l2: 6.59579e+07\n",
            "[4800]\ttraining's l1: 3082.93\ttraining's l2: 2.35058e+07\tvalid_1's l1: 4406.78\tvalid_1's l2: 7.55712e+07\tvalid_2's l1: 4982.94\tvalid_2's l2: 6.53428e+07\n",
            "[4900]\ttraining's l1: 3057.91\ttraining's l2: 2.31391e+07\tvalid_1's l1: 4395.76\tvalid_1's l2: 7.5417e+07\tvalid_2's l1: 4952.55\tvalid_2's l2: 6.47527e+07\n",
            "[5000]\ttraining's l1: 3033.49\ttraining's l2: 2.28063e+07\tvalid_1's l1: 4384.59\tvalid_1's l2: 7.52848e+07\tvalid_2's l1: 4918.31\tvalid_2's l2: 6.41306e+07\n",
            "[5100]\ttraining's l1: 3009.28\ttraining's l2: 2.24575e+07\tvalid_1's l1: 4373.94\tvalid_1's l2: 7.51261e+07\tvalid_2's l1: 4882.97\tvalid_2's l2: 6.34992e+07\n",
            "[5200]\ttraining's l1: 2984.92\ttraining's l2: 2.21085e+07\tvalid_1's l1: 4362.34\tvalid_1's l2: 7.49626e+07\tvalid_2's l1: 4844.51\tvalid_2's l2: 6.28125e+07\n",
            "[5300]\ttraining's l1: 2958.97\ttraining's l2: 2.17386e+07\tvalid_1's l1: 4349.44\tvalid_1's l2: 7.47826e+07\tvalid_2's l1: 4807.3\tvalid_2's l2: 6.21556e+07\n",
            "[5400]\ttraining's l1: 2934.98\ttraining's l2: 2.14125e+07\tvalid_1's l1: 4338.55\tvalid_1's l2: 7.46362e+07\tvalid_2's l1: 4773.4\tvalid_2's l2: 6.15621e+07\n",
            "[5500]\ttraining's l1: 2912.89\ttraining's l2: 2.11155e+07\tvalid_1's l1: 4328.39\tvalid_1's l2: 7.45051e+07\tvalid_2's l1: 4741.98\tvalid_2's l2: 6.09878e+07\n",
            "[5600]\ttraining's l1: 2891.31\ttraining's l2: 2.08041e+07\tvalid_1's l1: 4320.1\tvalid_1's l2: 7.44116e+07\tvalid_2's l1: 4714.4\tvalid_2's l2: 6.05238e+07\n",
            "[5700]\ttraining's l1: 2870.37\ttraining's l2: 2.05113e+07\tvalid_1's l1: 4311.82\tvalid_1's l2: 7.43305e+07\tvalid_2's l1: 4688.23\tvalid_2's l2: 6.00867e+07\n",
            "[5800]\ttraining's l1: 2849.8\ttraining's l2: 2.02291e+07\tvalid_1's l1: 4303.16\tvalid_1's l2: 7.42148e+07\tvalid_2's l1: 4657.3\tvalid_2's l2: 5.95354e+07\n",
            "[5900]\ttraining's l1: 2830.51\ttraining's l2: 1.99827e+07\tvalid_1's l1: 4293.71\tvalid_1's l2: 7.41047e+07\tvalid_2's l1: 4633.24\tvalid_2's l2: 5.91525e+07\n",
            "[6000]\ttraining's l1: 2812.52\ttraining's l2: 1.97414e+07\tvalid_1's l1: 4285.68\tvalid_1's l2: 7.40169e+07\tvalid_2's l1: 4605.02\tvalid_2's l2: 5.87167e+07\n",
            "[6100]\ttraining's l1: 2794.39\ttraining's l2: 1.94988e+07\tvalid_1's l1: 4278.71\tvalid_1's l2: 7.39695e+07\tvalid_2's l1: 4580.04\tvalid_2's l2: 5.83239e+07\n",
            "[6200]\ttraining's l1: 2775.3\ttraining's l2: 1.92554e+07\tvalid_1's l1: 4270.6\tvalid_1's l2: 7.38456e+07\tvalid_2's l1: 4549.86\tvalid_2's l2: 5.78114e+07\n",
            "[6300]\ttraining's l1: 2757.78\ttraining's l2: 1.90412e+07\tvalid_1's l1: 4263.21\tvalid_1's l2: 7.37449e+07\tvalid_2's l1: 4521.41\tvalid_2's l2: 5.73798e+07\n",
            "[6400]\ttraining's l1: 2738.15\ttraining's l2: 1.87888e+07\tvalid_1's l1: 4254.38\tvalid_1's l2: 7.35948e+07\tvalid_2's l1: 4482.2\tvalid_2's l2: 5.67902e+07\n",
            "[6500]\ttraining's l1: 2720\ttraining's l2: 1.85673e+07\tvalid_1's l1: 4246.2\tvalid_1's l2: 7.34699e+07\tvalid_2's l1: 4453.1\tvalid_2's l2: 5.63409e+07\n",
            "[6600]\ttraining's l1: 2702.72\ttraining's l2: 1.83519e+07\tvalid_1's l1: 4239.63\tvalid_1's l2: 7.33777e+07\tvalid_2's l1: 4429.04\tvalid_2's l2: 5.59969e+07\n",
            "[6700]\ttraining's l1: 2685.55\ttraining's l2: 1.81393e+07\tvalid_1's l1: 4232.26\tvalid_1's l2: 7.329e+07\tvalid_2's l1: 4404.72\tvalid_2's l2: 5.5643e+07\n",
            "[6800]\ttraining's l1: 2668.7\ttraining's l2: 1.79439e+07\tvalid_1's l1: 4224.87\tvalid_1's l2: 7.3174e+07\tvalid_2's l1: 4378.84\tvalid_2's l2: 5.52794e+07\n",
            "[6900]\ttraining's l1: 2651.83\ttraining's l2: 1.77416e+07\tvalid_1's l1: 4218.04\tvalid_1's l2: 7.3067e+07\tvalid_2's l1: 4355.43\tvalid_2's l2: 5.49248e+07\n",
            "[7000]\ttraining's l1: 2633.94\ttraining's l2: 1.75151e+07\tvalid_1's l1: 4210.96\tvalid_1's l2: 7.29465e+07\tvalid_2's l1: 4330\tvalid_2's l2: 5.45097e+07\n",
            "[7100]\ttraining's l1: 2616.88\ttraining's l2: 1.73122e+07\tvalid_1's l1: 4204.04\tvalid_1's l2: 7.28604e+07\tvalid_2's l1: 4297.84\tvalid_2's l2: 5.40375e+07\n",
            "[7200]\ttraining's l1: 2598.8\ttraining's l2: 1.71026e+07\tvalid_1's l1: 4195.14\tvalid_1's l2: 7.27544e+07\tvalid_2's l1: 4275.33\tvalid_2's l2: 5.37007e+07\n",
            "[7300]\ttraining's l1: 2581.27\ttraining's l2: 1.69005e+07\tvalid_1's l1: 4187.17\tvalid_1's l2: 7.26319e+07\tvalid_2's l1: 4253.18\tvalid_2's l2: 5.33792e+07\n",
            "[7400]\ttraining's l1: 2566.13\ttraining's l2: 1.67344e+07\tvalid_1's l1: 4181.22\tvalid_1's l2: 7.25759e+07\tvalid_2's l1: 4231.86\tvalid_2's l2: 5.31061e+07\n",
            "[7500]\ttraining's l1: 2551.35\ttraining's l2: 1.65656e+07\tvalid_1's l1: 4175.31\tvalid_1's l2: 7.24907e+07\tvalid_2's l1: 4212.47\tvalid_2's l2: 5.27868e+07\n",
            "[7600]\ttraining's l1: 2535.88\ttraining's l2: 1.63851e+07\tvalid_1's l1: 4169.12\tvalid_1's l2: 7.24072e+07\tvalid_2's l1: 4192.31\tvalid_2's l2: 5.24816e+07\n",
            "[7700]\ttraining's l1: 2521.66\ttraining's l2: 1.62197e+07\tvalid_1's l1: 4164.32\tvalid_1's l2: 7.23637e+07\tvalid_2's l1: 4174.53\tvalid_2's l2: 5.22197e+07\n",
            "[7800]\ttraining's l1: 2508.18\ttraining's l2: 1.60577e+07\tvalid_1's l1: 4159.45\tvalid_1's l2: 7.2305e+07\tvalid_2's l1: 4159.94\tvalid_2's l2: 5.1991e+07\n",
            "[7900]\ttraining's l1: 2494.79\ttraining's l2: 1.58998e+07\tvalid_1's l1: 4154.88\tvalid_1's l2: 7.22687e+07\tvalid_2's l1: 4146.1\tvalid_2's l2: 5.17941e+07\n",
            "[8000]\ttraining's l1: 2480.03\ttraining's l2: 1.57118e+07\tvalid_1's l1: 4150.84\tvalid_1's l2: 7.22429e+07\tvalid_2's l1: 4127.96\tvalid_2's l2: 5.14984e+07\n",
            "[8100]\ttraining's l1: 2464.68\ttraining's l2: 1.55259e+07\tvalid_1's l1: 4144.38\tvalid_1's l2: 7.21424e+07\tvalid_2's l1: 4107.84\tvalid_2's l2: 5.11722e+07\n",
            "[8200]\ttraining's l1: 2449.98\ttraining's l2: 1.53575e+07\tvalid_1's l1: 4138.44\tvalid_1's l2: 7.20689e+07\tvalid_2's l1: 4089.35\tvalid_2's l2: 5.08956e+07\n",
            "[8300]\ttraining's l1: 2436.52\ttraining's l2: 1.52001e+07\tvalid_1's l1: 4134.06\tvalid_1's l2: 7.20188e+07\tvalid_2's l1: 4072.3\tvalid_2's l2: 5.06445e+07\n",
            "[8400]\ttraining's l1: 2424.02\ttraining's l2: 1.50582e+07\tvalid_1's l1: 4129.43\tvalid_1's l2: 7.19652e+07\tvalid_2's l1: 4055.58\tvalid_2's l2: 5.04276e+07\n",
            "[8500]\ttraining's l1: 2410.94\ttraining's l2: 1.4912e+07\tvalid_1's l1: 4124.68\tvalid_1's l2: 7.19213e+07\tvalid_2's l1: 4039.53\tvalid_2's l2: 5.0214e+07\n",
            "[8600]\ttraining's l1: 2397.34\ttraining's l2: 1.47593e+07\tvalid_1's l1: 4119.38\tvalid_1's l2: 7.18563e+07\tvalid_2's l1: 4023.55\tvalid_2's l2: 5.00078e+07\n",
            "[8700]\ttraining's l1: 2385.79\ttraining's l2: 1.46264e+07\tvalid_1's l1: 4115.98\tvalid_1's l2: 7.18282e+07\tvalid_2's l1: 4006.26\tvalid_2's l2: 4.97417e+07\n",
            "[8800]\ttraining's l1: 2373.83\ttraining's l2: 1.44892e+07\tvalid_1's l1: 4112.9\tvalid_1's l2: 7.17877e+07\tvalid_2's l1: 3992.55\tvalid_2's l2: 4.95631e+07\n",
            "[8900]\ttraining's l1: 2360.87\ttraining's l2: 1.43412e+07\tvalid_1's l1: 4108.64\tvalid_1's l2: 7.17279e+07\tvalid_2's l1: 3976.12\tvalid_2's l2: 4.93204e+07\n",
            "[9000]\ttraining's l1: 2349.81\ttraining's l2: 1.42198e+07\tvalid_1's l1: 4104.88\tvalid_1's l2: 7.17008e+07\tvalid_2's l1: 3953.3\tvalid_2's l2: 4.90148e+07\n",
            "[9100]\ttraining's l1: 2338.6\ttraining's l2: 1.41035e+07\tvalid_1's l1: 4101.24\tvalid_1's l2: 7.16686e+07\tvalid_2's l1: 3933.72\tvalid_2's l2: 4.87512e+07\n",
            "[9200]\ttraining's l1: 2325.42\ttraining's l2: 1.39541e+07\tvalid_1's l1: 4097.4\tvalid_1's l2: 7.16327e+07\tvalid_2's l1: 3913.99\tvalid_2's l2: 4.84906e+07\n",
            "[9300]\ttraining's l1: 2313.98\ttraining's l2: 1.38276e+07\tvalid_1's l1: 4094.48\tvalid_1's l2: 7.16168e+07\tvalid_2's l1: 3900.34\tvalid_2's l2: 4.83333e+07\n",
            "[9400]\ttraining's l1: 2303.25\ttraining's l2: 1.37103e+07\tvalid_1's l1: 4091.69\tvalid_1's l2: 7.15822e+07\tvalid_2's l1: 3888.01\tvalid_2's l2: 4.81679e+07\n",
            "[9500]\ttraining's l1: 2292.53\ttraining's l2: 1.35973e+07\tvalid_1's l1: 4088.31\tvalid_1's l2: 7.15311e+07\tvalid_2's l1: 3875.14\tvalid_2's l2: 4.7984e+07\n",
            "[9600]\ttraining's l1: 2280.81\ttraining's l2: 1.34742e+07\tvalid_1's l1: 4084.92\tvalid_1's l2: 7.15001e+07\tvalid_2's l1: 3856.57\tvalid_2's l2: 4.77079e+07\n",
            "[9700]\ttraining's l1: 2269.19\ttraining's l2: 1.33473e+07\tvalid_1's l1: 4081.01\tvalid_1's l2: 7.14577e+07\tvalid_2's l1: 3834.26\tvalid_2's l2: 4.74112e+07\n",
            "[9800]\ttraining's l1: 2258.32\ttraining's l2: 1.32288e+07\tvalid_1's l1: 4077.67\tvalid_1's l2: 7.14291e+07\tvalid_2's l1: 3810.47\tvalid_2's l2: 4.70831e+07\n",
            "[9900]\ttraining's l1: 2246.89\ttraining's l2: 1.31101e+07\tvalid_1's l1: 4073.96\tvalid_1's l2: 7.13799e+07\tvalid_2's l1: 3789.57\tvalid_2's l2: 4.68101e+07\n",
            "[10000]\ttraining's l1: 2236.19\ttraining's l2: 1.30003e+07\tvalid_1's l1: 4070.37\tvalid_1's l2: 7.13473e+07\tvalid_2's l1: 3762.99\tvalid_2's l2: 4.64798e+07\n",
            "[10100]\ttraining's l1: 2225.85\ttraining's l2: 1.28928e+07\tvalid_1's l1: 4066.6\tvalid_1's l2: 7.13124e+07\tvalid_2's l1: 3746.53\tvalid_2's l2: 4.62511e+07\n",
            "[10200]\ttraining's l1: 2215.05\ttraining's l2: 1.27805e+07\tvalid_1's l1: 4063.23\tvalid_1's l2: 7.12642e+07\tvalid_2's l1: 3734.43\tvalid_2's l2: 4.60889e+07\n",
            "[10300]\ttraining's l1: 2204.21\ttraining's l2: 1.26701e+07\tvalid_1's l1: 4059.47\tvalid_1's l2: 7.12209e+07\tvalid_2's l1: 3712.79\tvalid_2's l2: 4.57623e+07\n",
            "[10400]\ttraining's l1: 2192.87\ttraining's l2: 1.25485e+07\tvalid_1's l1: 4055.6\tvalid_1's l2: 7.11737e+07\tvalid_2's l1: 3695.23\tvalid_2's l2: 4.5527e+07\n",
            "[10500]\ttraining's l1: 2182.58\ttraining's l2: 1.24357e+07\tvalid_1's l1: 4052.34\tvalid_1's l2: 7.11403e+07\tvalid_2's l1: 3681.7\tvalid_2's l2: 4.53585e+07\n",
            "[10600]\ttraining's l1: 2171.57\ttraining's l2: 1.2327e+07\tvalid_1's l1: 4048.49\tvalid_1's l2: 7.10984e+07\tvalid_2's l1: 3665.53\tvalid_2's l2: 4.51565e+07\n",
            "[10700]\ttraining's l1: 2161.31\ttraining's l2: 1.2224e+07\tvalid_1's l1: 4045.65\tvalid_1's l2: 7.10835e+07\tvalid_2's l1: 3636.07\tvalid_2's l2: 4.48174e+07\n",
            "[10800]\ttraining's l1: 2151.38\ttraining's l2: 1.21189e+07\tvalid_1's l1: 4043.12\tvalid_1's l2: 7.10468e+07\tvalid_2's l1: 3614.19\tvalid_2's l2: 4.45511e+07\n",
            "[10900]\ttraining's l1: 2141.4\ttraining's l2: 1.20104e+07\tvalid_1's l1: 4040.14\tvalid_1's l2: 7.09967e+07\tvalid_2's l1: 3595.21\tvalid_2's l2: 4.42779e+07\n",
            "[11000]\ttraining's l1: 2131.94\ttraining's l2: 1.19115e+07\tvalid_1's l1: 4037.78\tvalid_1's l2: 7.09664e+07\tvalid_2's l1: 3574.59\tvalid_2's l2: 4.40247e+07\n",
            "[11100]\ttraining's l1: 2122.54\ttraining's l2: 1.18126e+07\tvalid_1's l1: 4035.07\tvalid_1's l2: 7.09258e+07\tvalid_2's l1: 3560.16\tvalid_2's l2: 4.3835e+07\n",
            "[11200]\ttraining's l1: 2114.05\ttraining's l2: 1.17215e+07\tvalid_1's l1: 4033.42\tvalid_1's l2: 7.09032e+07\tvalid_2's l1: 3535.69\tvalid_2's l2: 4.35439e+07\n",
            "[11300]\ttraining's l1: 2106.51\ttraining's l2: 1.16435e+07\tvalid_1's l1: 4031.81\tvalid_1's l2: 7.08688e+07\tvalid_2's l1: 3518.79\tvalid_2's l2: 4.33516e+07\n",
            "[11400]\ttraining's l1: 2097.62\ttraining's l2: 1.15504e+07\tvalid_1's l1: 4029.73\tvalid_1's l2: 7.08562e+07\tvalid_2's l1: 3498.73\tvalid_2's l2: 4.31033e+07\n",
            "[11500]\ttraining's l1: 2088.27\ttraining's l2: 1.14568e+07\tvalid_1's l1: 4027.51\tvalid_1's l2: 7.08407e+07\tvalid_2's l1: 3473.82\tvalid_2's l2: 4.28397e+07\n",
            "[11600]\ttraining's l1: 2078.16\ttraining's l2: 1.13613e+07\tvalid_1's l1: 4024.59\tvalid_1's l2: 7.08028e+07\tvalid_2's l1: 3450.28\tvalid_2's l2: 4.26051e+07\n",
            "[11700]\ttraining's l1: 2068.22\ttraining's l2: 1.12616e+07\tvalid_1's l1: 4022.18\tvalid_1's l2: 7.07703e+07\tvalid_2's l1: 3430.38\tvalid_2's l2: 4.24059e+07\n",
            "[11800]\ttraining's l1: 2058.76\ttraining's l2: 1.11674e+07\tvalid_1's l1: 4020.5\tvalid_1's l2: 7.07613e+07\tvalid_2's l1: 3417.73\tvalid_2's l2: 4.22749e+07\n",
            "[11900]\ttraining's l1: 2050.43\ttraining's l2: 1.10825e+07\tvalid_1's l1: 4019.16\tvalid_1's l2: 7.07513e+07\tvalid_2's l1: 3400.08\tvalid_2's l2: 4.20793e+07\n",
            "[12000]\ttraining's l1: 2043.02\ttraining's l2: 1.10102e+07\tvalid_1's l1: 4017.86\tvalid_1's l2: 7.07392e+07\tvalid_2's l1: 3371.95\tvalid_2's l2: 4.17741e+07\n",
            "[12100]\ttraining's l1: 2034.85\ttraining's l2: 1.09312e+07\tvalid_1's l1: 4016.04\tvalid_1's l2: 7.07137e+07\tvalid_2's l1: 3358.32\tvalid_2's l2: 4.16318e+07\n",
            "[12200]\ttraining's l1: 2026.97\ttraining's l2: 1.08548e+07\tvalid_1's l1: 4014.46\tvalid_1's l2: 7.06868e+07\tvalid_2's l1: 3348.02\tvalid_2's l2: 4.1512e+07\n",
            "[12300]\ttraining's l1: 2018.57\ttraining's l2: 1.0775e+07\tvalid_1's l1: 4012.85\tvalid_1's l2: 7.0659e+07\tvalid_2's l1: 3338.64\tvalid_2's l2: 4.14176e+07\n",
            "[12400]\ttraining's l1: 2009.89\ttraining's l2: 1.06931e+07\tvalid_1's l1: 4010.76\tvalid_1's l2: 7.06127e+07\tvalid_2's l1: 3328.6\tvalid_2's l2: 4.1294e+07\n",
            "[12500]\ttraining's l1: 2002.01\ttraining's l2: 1.06153e+07\tvalid_1's l1: 4009.41\tvalid_1's l2: 7.06264e+07\tvalid_2's l1: 3313.3\tvalid_2's l2: 4.11478e+07\n",
            "[12600]\ttraining's l1: 1994.23\ttraining's l2: 1.05407e+07\tvalid_1's l1: 4007.85\tvalid_1's l2: 7.06129e+07\tvalid_2's l1: 3299.73\tvalid_2's l2: 4.10126e+07\n",
            "[12700]\ttraining's l1: 1986.34\ttraining's l2: 1.04708e+07\tvalid_1's l1: 4005.66\tvalid_1's l2: 7.05996e+07\tvalid_2's l1: 3288.35\tvalid_2's l2: 4.0892e+07\n",
            "[12800]\ttraining's l1: 1978.66\ttraining's l2: 1.0396e+07\tvalid_1's l1: 4003.64\tvalid_1's l2: 7.0567e+07\tvalid_2's l1: 3278.81\tvalid_2's l2: 4.07832e+07\n",
            "[12900]\ttraining's l1: 1971.09\ttraining's l2: 1.03256e+07\tvalid_1's l1: 4002.1\tvalid_1's l2: 7.05597e+07\tvalid_2's l1: 3262.53\tvalid_2's l2: 4.06148e+07\n",
            "[13000]\ttraining's l1: 1962.65\ttraining's l2: 1.02464e+07\tvalid_1's l1: 3999.77\tvalid_1's l2: 7.05378e+07\tvalid_2's l1: 3251.38\tvalid_2's l2: 4.04885e+07\n",
            "[13100]\ttraining's l1: 1953.98\ttraining's l2: 1.01673e+07\tvalid_1's l1: 3997.07\tvalid_1's l2: 7.04964e+07\tvalid_2's l1: 3242.88\tvalid_2's l2: 4.03981e+07\n",
            "[13200]\ttraining's l1: 1946.26\ttraining's l2: 1.01002e+07\tvalid_1's l1: 3995.36\tvalid_1's l2: 7.04831e+07\tvalid_2's l1: 3235.81\tvalid_2's l2: 4.03267e+07\n",
            "[13300]\ttraining's l1: 1938.89\ttraining's l2: 1.00348e+07\tvalid_1's l1: 3993.69\tvalid_1's l2: 7.04594e+07\tvalid_2's l1: 3221.9\tvalid_2's l2: 4.01716e+07\n",
            "[13400]\ttraining's l1: 1930.97\ttraining's l2: 9.96562e+06\tvalid_1's l1: 3991.2\tvalid_1's l2: 7.0427e+07\tvalid_2's l1: 3206.05\tvalid_2's l2: 4.00171e+07\n",
            "[13500]\ttraining's l1: 1923.27\ttraining's l2: 9.89466e+06\tvalid_1's l1: 3989.66\tvalid_1's l2: 7.0405e+07\tvalid_2's l1: 3193.91\tvalid_2's l2: 3.98786e+07\n",
            "[13600]\ttraining's l1: 1916.48\ttraining's l2: 9.83351e+06\tvalid_1's l1: 3987.77\tvalid_1's l2: 7.03832e+07\tvalid_2's l1: 3184.48\tvalid_2's l2: 3.97788e+07\n",
            "[13700]\ttraining's l1: 1909.35\ttraining's l2: 9.77173e+06\tvalid_1's l1: 3986.51\tvalid_1's l2: 7.03791e+07\tvalid_2's l1: 3169.85\tvalid_2's l2: 3.96431e+07\n",
            "[13800]\ttraining's l1: 1902.54\ttraining's l2: 9.71284e+06\tvalid_1's l1: 3985.12\tvalid_1's l2: 7.03621e+07\tvalid_2's l1: 3160.58\tvalid_2's l2: 3.95645e+07\n",
            "[13900]\ttraining's l1: 1895.71\ttraining's l2: 9.65337e+06\tvalid_1's l1: 3983.6\tvalid_1's l2: 7.03434e+07\tvalid_2's l1: 3154.7\tvalid_2's l2: 3.95086e+07\n",
            "[14000]\ttraining's l1: 1889.2\ttraining's l2: 9.59579e+06\tvalid_1's l1: 3982.27\tvalid_1's l2: 7.03428e+07\tvalid_2's l1: 3146.7\tvalid_2's l2: 3.94166e+07\n",
            "[14100]\ttraining's l1: 1882.53\ttraining's l2: 9.53557e+06\tvalid_1's l1: 3981.02\tvalid_1's l2: 7.03494e+07\tvalid_2's l1: 3138.73\tvalid_2's l2: 3.93302e+07\n",
            "[14200]\ttraining's l1: 1875.89\ttraining's l2: 9.47324e+06\tvalid_1's l1: 3980.01\tvalid_1's l2: 7.0363e+07\tvalid_2's l1: 3133.06\tvalid_2's l2: 3.92787e+07\n",
            "[14300]\ttraining's l1: 1869.62\ttraining's l2: 9.41516e+06\tvalid_1's l1: 3978.63\tvalid_1's l2: 7.03419e+07\tvalid_2's l1: 3124.1\tvalid_2's l2: 3.91719e+07\n",
            "[14400]\ttraining's l1: 1863.42\ttraining's l2: 9.36186e+06\tvalid_1's l1: 3977.34\tvalid_1's l2: 7.03312e+07\tvalid_2's l1: 3117.82\tvalid_2's l2: 3.91012e+07\n",
            "[14500]\ttraining's l1: 1856.87\ttraining's l2: 9.30604e+06\tvalid_1's l1: 3976.22\tvalid_1's l2: 7.03291e+07\tvalid_2's l1: 3110.56\tvalid_2's l2: 3.90275e+07\n",
            "[14600]\ttraining's l1: 1849.76\ttraining's l2: 9.24643e+06\tvalid_1's l1: 3975.29\tvalid_1's l2: 7.03355e+07\tvalid_2's l1: 3103.73\tvalid_2's l2: 3.89673e+07\n",
            "[14700]\ttraining's l1: 1843.23\ttraining's l2: 9.19156e+06\tvalid_1's l1: 3974.12\tvalid_1's l2: 7.03353e+07\tvalid_2's l1: 3094.31\tvalid_2's l2: 3.88832e+07\n",
            "[14800]\ttraining's l1: 1836.4\ttraining's l2: 9.13454e+06\tvalid_1's l1: 3972.75\tvalid_1's l2: 7.03047e+07\tvalid_2's l1: 3085.61\tvalid_2's l2: 3.8818e+07\n",
            "[14900]\ttraining's l1: 1829.87\ttraining's l2: 9.07862e+06\tvalid_1's l1: 3971.75\tvalid_1's l2: 7.0281e+07\tvalid_2's l1: 3073.85\tvalid_2's l2: 3.87092e+07\n",
            "[15000]\ttraining's l1: 1823.53\ttraining's l2: 9.02491e+06\tvalid_1's l1: 3970.89\tvalid_1's l2: 7.02735e+07\tvalid_2's l1: 3063.13\tvalid_2's l2: 3.86075e+07\n",
            "[15100]\ttraining's l1: 1816.95\ttraining's l2: 8.96872e+06\tvalid_1's l1: 3969.85\tvalid_1's l2: 7.02557e+07\tvalid_2's l1: 3055.21\tvalid_2's l2: 3.85209e+07\n",
            "[15200]\ttraining's l1: 1810.19\ttraining's l2: 8.90959e+06\tvalid_1's l1: 3968.85\tvalid_1's l2: 7.023e+07\tvalid_2's l1: 3045.3\tvalid_2's l2: 3.84293e+07\n",
            "[15300]\ttraining's l1: 1803.78\ttraining's l2: 8.85205e+06\tvalid_1's l1: 3968.15\tvalid_1's l2: 7.02329e+07\tvalid_2's l1: 3038.67\tvalid_2's l2: 3.83661e+07\n",
            "[15400]\ttraining's l1: 1797.32\ttraining's l2: 8.79807e+06\tvalid_1's l1: 3967.33\tvalid_1's l2: 7.02335e+07\tvalid_2's l1: 3030.44\tvalid_2's l2: 3.83058e+07\n",
            "[15500]\ttraining's l1: 1791.56\ttraining's l2: 8.75285e+06\tvalid_1's l1: 3966.68\tvalid_1's l2: 7.02323e+07\tvalid_2's l1: 3024.53\tvalid_2's l2: 3.82684e+07\n",
            "[15600]\ttraining's l1: 1785.88\ttraining's l2: 8.71066e+06\tvalid_1's l1: 3965.55\tvalid_1's l2: 7.02124e+07\tvalid_2's l1: 3015.73\tvalid_2's l2: 3.81868e+07\n",
            "[15700]\ttraining's l1: 1779.93\ttraining's l2: 8.66358e+06\tvalid_1's l1: 3964.74\tvalid_1's l2: 7.01949e+07\tvalid_2's l1: 3004.14\tvalid_2's l2: 3.80693e+07\n",
            "[15800]\ttraining's l1: 1774.1\ttraining's l2: 8.61314e+06\tvalid_1's l1: 3964.01\tvalid_1's l2: 7.01936e+07\tvalid_2's l1: 2999.15\tvalid_2's l2: 3.80218e+07\n",
            "[15900]\ttraining's l1: 1768.15\ttraining's l2: 8.5656e+06\tvalid_1's l1: 3962.99\tvalid_1's l2: 7.01638e+07\tvalid_2's l1: 2992.87\tvalid_2's l2: 3.79413e+07\n",
            "[16000]\ttraining's l1: 1762.57\ttraining's l2: 8.51693e+06\tvalid_1's l1: 3962.17\tvalid_1's l2: 7.01503e+07\tvalid_2's l1: 2986.16\tvalid_2's l2: 3.78623e+07\n",
            "[16100]\ttraining's l1: 1757.44\ttraining's l2: 8.47668e+06\tvalid_1's l1: 3961.43\tvalid_1's l2: 7.01505e+07\tvalid_2's l1: 2980.16\tvalid_2's l2: 3.78152e+07\n",
            "[16200]\ttraining's l1: 1752.18\ttraining's l2: 8.43276e+06\tvalid_1's l1: 3960.85\tvalid_1's l2: 7.01572e+07\tvalid_2's l1: 2967.57\tvalid_2's l2: 3.76892e+07\n",
            "[16300]\ttraining's l1: 1746.85\ttraining's l2: 8.38772e+06\tvalid_1's l1: 3960.04\tvalid_1's l2: 7.01531e+07\tvalid_2's l1: 2962.28\tvalid_2's l2: 3.7632e+07\n",
            "[16400]\ttraining's l1: 1740.79\ttraining's l2: 8.33534e+06\tvalid_1's l1: 3959.39\tvalid_1's l2: 7.01682e+07\tvalid_2's l1: 2952.74\tvalid_2's l2: 3.75602e+07\n",
            "[16500]\ttraining's l1: 1734.93\ttraining's l2: 8.29005e+06\tvalid_1's l1: 3958.55\tvalid_1's l2: 7.01664e+07\tvalid_2's l1: 2943.36\tvalid_2's l2: 3.747e+07\n",
            "[16600]\ttraining's l1: 1729.7\ttraining's l2: 8.24965e+06\tvalid_1's l1: 3957.68\tvalid_1's l2: 7.01666e+07\tvalid_2's l1: 2934.58\tvalid_2's l2: 3.7396e+07\n",
            "[16700]\ttraining's l1: 1724.2\ttraining's l2: 8.2039e+06\tvalid_1's l1: 3957.07\tvalid_1's l2: 7.01731e+07\tvalid_2's l1: 2922.38\tvalid_2's l2: 3.72874e+07\n",
            "[16800]\ttraining's l1: 1718.97\ttraining's l2: 8.15988e+06\tvalid_1's l1: 3956.39\tvalid_1's l2: 7.01702e+07\tvalid_2's l1: 2916.17\tvalid_2's l2: 3.7238e+07\n",
            "[16900]\ttraining's l1: 1713.58\ttraining's l2: 8.11619e+06\tvalid_1's l1: 3955.78\tvalid_1's l2: 7.01605e+07\tvalid_2's l1: 2907.51\tvalid_2's l2: 3.71553e+07\n",
            "[17000]\ttraining's l1: 1707.24\ttraining's l2: 8.06588e+06\tvalid_1's l1: 3954.92\tvalid_1's l2: 7.0159e+07\tvalid_2's l1: 2901.55\tvalid_2's l2: 3.71076e+07\n",
            "[17100]\ttraining's l1: 1700.77\ttraining's l2: 8.01197e+06\tvalid_1's l1: 3953.83\tvalid_1's l2: 7.01524e+07\tvalid_2's l1: 2895.01\tvalid_2's l2: 3.70581e+07\n",
            "Early stopping, best iteration is:\n",
            "[16142]\ttraining's l1: 1755.01\ttraining's l2: 8.45742e+06\tvalid_1's l1: 3961.28\tvalid_1's l2: 7.01486e+07\tvalid_2's l1: 2971.03\tvalid_2's l2: 3.77217e+07\n"
          ],
          "name": "stdout"
        },
        {
          "output_type": "execute_result",
          "data": {
            "text/plain": [
              "LGBMRegressor(boosting_type='gbdt', class_weight=None, colsample_bytree=1.0,\n",
              "              importance_type='split', learning_rate=0.01, max_depth=15,\n",
              "              min_child_samples=20, min_child_weight=0.001, min_split_gain=0.0,\n",
              "              n_estimators=300000, n_jobs=-1, num_leaves=250, objective=None,\n",
              "              random_state=1, reg_alpha=1, reg_lambda=1, silent=True,\n",
              "              subsample=0.7, subsample_for_bin=200000, subsample_freq=0)"
            ]
          },
          "metadata": {
            "tags": []
          },
          "execution_count": 21
        }
      ]
    },
    {
      "cell_type": "code",
      "metadata": {
        "id": "5NroyAgsQMBp"
      },
      "source": [
        "## 예측측\n",
        "y_train_pred = lightGB.predict(X_train_encoded)\n",
        "y_val_pred = lightGB.predict(X_val_encoded)\n",
        "y_test_pred = lightGB.predict(X_test_encoded)"
      ],
      "execution_count": null,
      "outputs": []
    },
    {
      "cell_type": "markdown",
      "metadata": {
        "id": "uriJteQrYc5b"
      },
      "source": [
        "## 2.4 예측값과 실제값"
      ]
    },
    {
      "cell_type": "code",
      "metadata": {
        "colab": {
          "base_uri": "https://localhost:8080/"
        },
        "id": "y_wBHD0oYfHu",
        "outputId": "1a5647d3-365a-4e1b-ddf9-cd0685741b20"
      },
      "source": [
        "len(y_test_pred),len(y_test) # 개수 확인"
      ],
      "execution_count": null,
      "outputs": [
        {
          "output_type": "execute_result",
          "data": {
            "text/plain": [
              "(5248, 5248)"
            ]
          },
          "metadata": {
            "tags": []
          },
          "execution_count": 23
        }
      ]
    },
    {
      "cell_type": "code",
      "metadata": {
        "id": "FcuDIXB4YhwV"
      },
      "source": [
        "## 검증 및 테스트\n",
        "from sklearn.metrics import r2_score\n",
        "print('훈련 R2 : ',r2_score(y_train,y_train_pred))\n",
        "print('검증 R2 : ',r2_score(y_val,y_val_pred))\n",
        "print('TEST R2 : ',r2_score(y_test,y_test_pred))"
      ],
      "execution_count": null,
      "outputs": []
    },
    {
      "cell_type": "code",
      "metadata": {
        "colab": {
          "base_uri": "https://localhost:8080/"
        },
        "id": "sLhczAPoYiaU",
        "outputId": "e588e851-967a-4a02-b498-058c20203816"
      },
      "source": [
        "## 검증 및 테스트\n",
        "print('훈련 MAE : ',mean_absolute_error(y_train,y_train_pred))\n",
        "print('검증 MAE : ',mean_absolute_error(y_val,y_val_pred))\n",
        "print('TEST MAE : ',mean_absolute_error(y_test,y_test_pred))"
      ],
      "execution_count": null,
      "outputs": [
        {
          "output_type": "stream",
          "text": [
            "훈련 MAE :  1755.0106281860456\n",
            "검증 MAE :  3961.2761049586347\n",
            "TEST MAE :  2971.030790171767\n"
          ],
          "name": "stdout"
        }
      ]
    },
    {
      "cell_type": "code",
      "metadata": {
        "colab": {
          "base_uri": "https://localhost:8080/"
        },
        "id": "mjtP_9faYioQ",
        "outputId": "7dda7ca9-3e0b-4b05-894a-9baf027092ce"
      },
      "source": [
        "X_test.columns # 컬럼 확인"
      ],
      "execution_count": null,
      "outputs": [
        {
          "output_type": "execute_result",
          "data": {
            "text/plain": [
              "Index(['지역코드', '법정동', '아파트', '전용면적', '층', '건축년도', '거래년도', '거래월일', '세대', '인구',\n",
              "       '자동차등록', '인구이동(전입지별)', '외국인증권투자', '국고채 10년(평균)', '회사채 3년(평균)',\n",
              "       'CD 91물(평균)', '소비자물가', '- 농축수산물', '- 공업제품', '- 공공서비스', '근원물가',\n",
              "       '출생아수(명)', '사망자수(명)', '혼인건수(건)', '이혼건수(건)', 'DJI', 'IXIC', 'VIX',\n",
              "       'SSEC', 'DE30', 'FCHI', 'NG', 'GC', 'CL', '구별K', 'KRX'],\n",
              "      dtype='object')"
            ]
          },
          "metadata": {
            "tags": []
          },
          "execution_count": 25
        }
      ]
    },
    {
      "cell_type": "code",
      "metadata": {
        "colab": {
          "base_uri": "https://localhost:8080/",
          "height": 419
        },
        "id": "szypTWctYn2c",
        "outputId": "b04bb207-3dcc-4f3e-a792-8a8ff405a52a"
      },
      "source": [
        "## 테스트의 예측값 비교 (loss 산출)\n",
        "df_pred = pd.DataFrame(y_test)\n",
        "df_pred = df_pred.reset_index(drop=True)\n",
        "df_pred['예측금액'] = y_test_pred\n",
        "df_pred['차이'] = df_pred['거래금액'] - df_pred['예측금액']\n",
        "df_pred['차이(%)'] = df_pred['차이']/df_pred['거래금액']*100\n",
        "df_pred[['지역코드', '법정동', '아파트', '전용면적', '층', '건축년도', '거래월일']] = X_test.reset_index()[['지역코드', '법정동', '아파트', '전용면적', '층', '건축년도', '거래월일']]\n",
        "df_pred['count'] = [1]*len(y_test_pred)\n",
        "df_pred"
      ],
      "execution_count": null,
      "outputs": [
        {
          "output_type": "execute_result",
          "data": {
            "text/html": [
              "<div>\n",
              "<style scoped>\n",
              "    .dataframe tbody tr th:only-of-type {\n",
              "        vertical-align: middle;\n",
              "    }\n",
              "\n",
              "    .dataframe tbody tr th {\n",
              "        vertical-align: top;\n",
              "    }\n",
              "\n",
              "    .dataframe thead th {\n",
              "        text-align: right;\n",
              "    }\n",
              "</style>\n",
              "<table border=\"1\" class=\"dataframe\">\n",
              "  <thead>\n",
              "    <tr style=\"text-align: right;\">\n",
              "      <th></th>\n",
              "      <th>거래금액</th>\n",
              "      <th>예측금액</th>\n",
              "      <th>차이</th>\n",
              "      <th>차이(%)</th>\n",
              "      <th>지역코드</th>\n",
              "      <th>법정동</th>\n",
              "      <th>아파트</th>\n",
              "      <th>전용면적</th>\n",
              "      <th>층</th>\n",
              "      <th>건축년도</th>\n",
              "      <th>거래월일</th>\n",
              "      <th>count</th>\n",
              "    </tr>\n",
              "  </thead>\n",
              "  <tbody>\n",
              "    <tr>\n",
              "      <th>0</th>\n",
              "      <td>127000</td>\n",
              "      <td>128299.512747</td>\n",
              "      <td>-1299.512747</td>\n",
              "      <td>-1.023238</td>\n",
              "      <td>종로구</td>\n",
              "      <td>견지동</td>\n",
              "      <td>대성스카이렉스</td>\n",
              "      <td>149.800</td>\n",
              "      <td>11</td>\n",
              "      <td>2008</td>\n",
              "      <td>2021-01</td>\n",
              "      <td>1</td>\n",
              "    </tr>\n",
              "    <tr>\n",
              "      <th>1</th>\n",
              "      <td>114000</td>\n",
              "      <td>113347.852677</td>\n",
              "      <td>652.147323</td>\n",
              "      <td>0.572059</td>\n",
              "      <td>종로구</td>\n",
              "      <td>교북동</td>\n",
              "      <td>경희궁자이(4단지)</td>\n",
              "      <td>45.879</td>\n",
              "      <td>17</td>\n",
              "      <td>2017</td>\n",
              "      <td>2021-01</td>\n",
              "      <td>1</td>\n",
              "    </tr>\n",
              "    <tr>\n",
              "      <th>2</th>\n",
              "      <td>175000</td>\n",
              "      <td>174375.169849</td>\n",
              "      <td>624.830151</td>\n",
              "      <td>0.357046</td>\n",
              "      <td>종로구</td>\n",
              "      <td>내수동</td>\n",
              "      <td>경희궁의아침2단지</td>\n",
              "      <td>174.550</td>\n",
              "      <td>4</td>\n",
              "      <td>2004</td>\n",
              "      <td>2021-01</td>\n",
              "      <td>1</td>\n",
              "    </tr>\n",
              "    <tr>\n",
              "      <th>3</th>\n",
              "      <td>180000</td>\n",
              "      <td>178355.659000</td>\n",
              "      <td>1644.341000</td>\n",
              "      <td>0.913523</td>\n",
              "      <td>종로구</td>\n",
              "      <td>내수동</td>\n",
              "      <td>경희궁의아침3단지</td>\n",
              "      <td>123.130</td>\n",
              "      <td>13</td>\n",
              "      <td>2004</td>\n",
              "      <td>2021-01</td>\n",
              "      <td>1</td>\n",
              "    </tr>\n",
              "    <tr>\n",
              "      <th>4</th>\n",
              "      <td>63000</td>\n",
              "      <td>62455.291803</td>\n",
              "      <td>544.708197</td>\n",
              "      <td>0.864616</td>\n",
              "      <td>종로구</td>\n",
              "      <td>명륜1가</td>\n",
              "      <td>송림아마레스아파트</td>\n",
              "      <td>84.620</td>\n",
              "      <td>1</td>\n",
              "      <td>2003</td>\n",
              "      <td>2021-01</td>\n",
              "      <td>1</td>\n",
              "    </tr>\n",
              "    <tr>\n",
              "      <th>...</th>\n",
              "      <td>...</td>\n",
              "      <td>...</td>\n",
              "      <td>...</td>\n",
              "      <td>...</td>\n",
              "      <td>...</td>\n",
              "      <td>...</td>\n",
              "      <td>...</td>\n",
              "      <td>...</td>\n",
              "      <td>...</td>\n",
              "      <td>...</td>\n",
              "      <td>...</td>\n",
              "      <td>...</td>\n",
              "    </tr>\n",
              "    <tr>\n",
              "      <th>5243</th>\n",
              "      <td>53000</td>\n",
              "      <td>54080.754291</td>\n",
              "      <td>-1080.754291</td>\n",
              "      <td>-2.039159</td>\n",
              "      <td>강동구</td>\n",
              "      <td>성내동</td>\n",
              "      <td>로얄</td>\n",
              "      <td>75.680</td>\n",
              "      <td>1</td>\n",
              "      <td>2003</td>\n",
              "      <td>2021-02</td>\n",
              "      <td>1</td>\n",
              "    </tr>\n",
              "    <tr>\n",
              "      <th>5244</th>\n",
              "      <td>34900</td>\n",
              "      <td>36400.348433</td>\n",
              "      <td>-1500.348433</td>\n",
              "      <td>-4.298993</td>\n",
              "      <td>강동구</td>\n",
              "      <td>성내동</td>\n",
              "      <td>다성이즈빌 아파트</td>\n",
              "      <td>27.150</td>\n",
              "      <td>12</td>\n",
              "      <td>2016</td>\n",
              "      <td>2021-02</td>\n",
              "      <td>1</td>\n",
              "    </tr>\n",
              "    <tr>\n",
              "      <th>5245</th>\n",
              "      <td>55000</td>\n",
              "      <td>55235.402578</td>\n",
              "      <td>-235.402578</td>\n",
              "      <td>-0.428005</td>\n",
              "      <td>강동구</td>\n",
              "      <td>암사동</td>\n",
              "      <td>중앙하이츠</td>\n",
              "      <td>59.520</td>\n",
              "      <td>6</td>\n",
              "      <td>1998</td>\n",
              "      <td>2021-02</td>\n",
              "      <td>1</td>\n",
              "    </tr>\n",
              "    <tr>\n",
              "      <th>5246</th>\n",
              "      <td>168000</td>\n",
              "      <td>165701.309769</td>\n",
              "      <td>2298.690231</td>\n",
              "      <td>1.368268</td>\n",
              "      <td>강동구</td>\n",
              "      <td>암사동</td>\n",
              "      <td>롯데캐슬퍼스트</td>\n",
              "      <td>112.110</td>\n",
              "      <td>2</td>\n",
              "      <td>2008</td>\n",
              "      <td>2021-02</td>\n",
              "      <td>1</td>\n",
              "    </tr>\n",
              "    <tr>\n",
              "      <th>5247</th>\n",
              "      <td>84000</td>\n",
              "      <td>82444.557478</td>\n",
              "      <td>1555.442522</td>\n",
              "      <td>1.851717</td>\n",
              "      <td>강동구</td>\n",
              "      <td>천호동</td>\n",
              "      <td>삼성</td>\n",
              "      <td>59.860</td>\n",
              "      <td>15</td>\n",
              "      <td>1997</td>\n",
              "      <td>2021-02</td>\n",
              "      <td>1</td>\n",
              "    </tr>\n",
              "  </tbody>\n",
              "</table>\n",
              "<p>5248 rows × 12 columns</p>\n",
              "</div>"
            ],
            "text/plain": [
              "        거래금액           예측금액           차이     차이(%)  ...   층  건축년도     거래월일  count\n",
              "0     127000  128299.512747 -1299.512747 -1.023238  ...  11  2008  2021-01      1\n",
              "1     114000  113347.852677   652.147323  0.572059  ...  17  2017  2021-01      1\n",
              "2     175000  174375.169849   624.830151  0.357046  ...   4  2004  2021-01      1\n",
              "3     180000  178355.659000  1644.341000  0.913523  ...  13  2004  2021-01      1\n",
              "4      63000   62455.291803   544.708197  0.864616  ...   1  2003  2021-01      1\n",
              "...      ...            ...          ...       ...  ...  ..   ...      ...    ...\n",
              "5243   53000   54080.754291 -1080.754291 -2.039159  ...   1  2003  2021-02      1\n",
              "5244   34900   36400.348433 -1500.348433 -4.298993  ...  12  2016  2021-02      1\n",
              "5245   55000   55235.402578  -235.402578 -0.428005  ...   6  1998  2021-02      1\n",
              "5246  168000  165701.309769  2298.690231  1.368268  ...   2  2008  2021-02      1\n",
              "5247   84000   82444.557478  1555.442522  1.851717  ...  15  1997  2021-02      1\n",
              "\n",
              "[5248 rows x 12 columns]"
            ]
          },
          "metadata": {
            "tags": []
          },
          "execution_count": 26
        }
      ]
    },
    {
      "cell_type": "code",
      "metadata": {
        "colab": {
          "base_uri": "https://localhost:8080/",
          "height": 855
        },
        "id": "x65UjN2pYz81",
        "outputId": "8832a789-bbdd-4cc2-c011-9f006ae423ea"
      },
      "source": [
        "## 구별 차이 산출\n",
        "pd.concat([df_pred.groupby('지역코드').mean().drop(columns='count'),df_pred.groupby('지역코드').sum()['count']],axis=1)"
      ],
      "execution_count": null,
      "outputs": [
        {
          "output_type": "execute_result",
          "data": {
            "text/html": [
              "<div>\n",
              "<style scoped>\n",
              "    .dataframe tbody tr th:only-of-type {\n",
              "        vertical-align: middle;\n",
              "    }\n",
              "\n",
              "    .dataframe tbody tr th {\n",
              "        vertical-align: top;\n",
              "    }\n",
              "\n",
              "    .dataframe thead th {\n",
              "        text-align: right;\n",
              "    }\n",
              "</style>\n",
              "<table border=\"1\" class=\"dataframe\">\n",
              "  <thead>\n",
              "    <tr style=\"text-align: right;\">\n",
              "      <th></th>\n",
              "      <th>거래금액</th>\n",
              "      <th>예측금액</th>\n",
              "      <th>차이</th>\n",
              "      <th>차이(%)</th>\n",
              "      <th>전용면적</th>\n",
              "      <th>층</th>\n",
              "      <th>건축년도</th>\n",
              "      <th>count</th>\n",
              "    </tr>\n",
              "    <tr>\n",
              "      <th>지역코드</th>\n",
              "      <th></th>\n",
              "      <th></th>\n",
              "      <th></th>\n",
              "      <th></th>\n",
              "      <th></th>\n",
              "      <th></th>\n",
              "      <th></th>\n",
              "      <th></th>\n",
              "    </tr>\n",
              "  </thead>\n",
              "  <tbody>\n",
              "    <tr>\n",
              "      <th>강남구</th>\n",
              "      <td>182365.362776</td>\n",
              "      <td>182771.434278</td>\n",
              "      <td>-406.071502</td>\n",
              "      <td>-1.420700</td>\n",
              "      <td>87.667700</td>\n",
              "      <td>8.996845</td>\n",
              "      <td>1999.444795</td>\n",
              "      <td>317</td>\n",
              "    </tr>\n",
              "    <tr>\n",
              "      <th>강동구</th>\n",
              "      <td>100335.347985</td>\n",
              "      <td>100383.228135</td>\n",
              "      <td>-47.880149</td>\n",
              "      <td>-1.482709</td>\n",
              "      <td>70.626753</td>\n",
              "      <td>9.802198</td>\n",
              "      <td>2005.468864</td>\n",
              "      <td>273</td>\n",
              "    </tr>\n",
              "    <tr>\n",
              "      <th>강북구</th>\n",
              "      <td>62229.320388</td>\n",
              "      <td>62322.290585</td>\n",
              "      <td>-92.970196</td>\n",
              "      <td>-0.408005</td>\n",
              "      <td>69.174912</td>\n",
              "      <td>7.941748</td>\n",
              "      <td>2004.601942</td>\n",
              "      <td>103</td>\n",
              "    </tr>\n",
              "    <tr>\n",
              "      <th>강서구</th>\n",
              "      <td>77377.275748</td>\n",
              "      <td>77460.619605</td>\n",
              "      <td>-83.343857</td>\n",
              "      <td>-0.938585</td>\n",
              "      <td>70.035924</td>\n",
              "      <td>7.813953</td>\n",
              "      <td>2001.202658</td>\n",
              "      <td>301</td>\n",
              "    </tr>\n",
              "    <tr>\n",
              "      <th>관악구</th>\n",
              "      <td>72183.588235</td>\n",
              "      <td>72272.341751</td>\n",
              "      <td>-88.753515</td>\n",
              "      <td>-0.680401</td>\n",
              "      <td>72.708786</td>\n",
              "      <td>9.711765</td>\n",
              "      <td>2002.300000</td>\n",
              "      <td>170</td>\n",
              "    </tr>\n",
              "    <tr>\n",
              "      <th>광진구</th>\n",
              "      <td>115427.528090</td>\n",
              "      <td>115024.146308</td>\n",
              "      <td>403.381782</td>\n",
              "      <td>-1.094486</td>\n",
              "      <td>77.349899</td>\n",
              "      <td>10.000000</td>\n",
              "      <td>2000.258427</td>\n",
              "      <td>89</td>\n",
              "    </tr>\n",
              "    <tr>\n",
              "      <th>구로구</th>\n",
              "      <td>59989.340625</td>\n",
              "      <td>60149.380706</td>\n",
              "      <td>-160.040081</td>\n",
              "      <td>-0.859323</td>\n",
              "      <td>66.163193</td>\n",
              "      <td>9.440625</td>\n",
              "      <td>1999.471875</td>\n",
              "      <td>320</td>\n",
              "    </tr>\n",
              "    <tr>\n",
              "      <th>금천구</th>\n",
              "      <td>58558.304348</td>\n",
              "      <td>59068.181405</td>\n",
              "      <td>-509.877058</td>\n",
              "      <td>-1.456910</td>\n",
              "      <td>67.587861</td>\n",
              "      <td>10.930435</td>\n",
              "      <td>2003.826087</td>\n",
              "      <td>115</td>\n",
              "    </tr>\n",
              "    <tr>\n",
              "      <th>노원구</th>\n",
              "      <td>62249.908088</td>\n",
              "      <td>62290.580053</td>\n",
              "      <td>-40.671965</td>\n",
              "      <td>-0.461227</td>\n",
              "      <td>62.381403</td>\n",
              "      <td>7.838235</td>\n",
              "      <td>1994.027574</td>\n",
              "      <td>544</td>\n",
              "    </tr>\n",
              "    <tr>\n",
              "      <th>도봉구</th>\n",
              "      <td>54592.689394</td>\n",
              "      <td>54723.753685</td>\n",
              "      <td>-131.064291</td>\n",
              "      <td>-1.182275</td>\n",
              "      <td>67.536270</td>\n",
              "      <td>7.250000</td>\n",
              "      <td>1994.700758</td>\n",
              "      <td>264</td>\n",
              "    </tr>\n",
              "    <tr>\n",
              "      <th>동대문구</th>\n",
              "      <td>66043.501805</td>\n",
              "      <td>66182.669682</td>\n",
              "      <td>-139.167877</td>\n",
              "      <td>-1.403218</td>\n",
              "      <td>56.352405</td>\n",
              "      <td>9.057762</td>\n",
              "      <td>2009.350181</td>\n",
              "      <td>277</td>\n",
              "    </tr>\n",
              "    <tr>\n",
              "      <th>동작구</th>\n",
              "      <td>113891.761364</td>\n",
              "      <td>114083.811139</td>\n",
              "      <td>-192.049776</td>\n",
              "      <td>-0.748573</td>\n",
              "      <td>85.103623</td>\n",
              "      <td>9.386364</td>\n",
              "      <td>2002.056818</td>\n",
              "      <td>176</td>\n",
              "    </tr>\n",
              "    <tr>\n",
              "      <th>마포구</th>\n",
              "      <td>114088.669951</td>\n",
              "      <td>113531.303639</td>\n",
              "      <td>557.366312</td>\n",
              "      <td>0.101404</td>\n",
              "      <td>76.631050</td>\n",
              "      <td>9.428571</td>\n",
              "      <td>2003.876847</td>\n",
              "      <td>203</td>\n",
              "    </tr>\n",
              "    <tr>\n",
              "      <th>서대문구</th>\n",
              "      <td>94566.470588</td>\n",
              "      <td>95080.498125</td>\n",
              "      <td>-514.027537</td>\n",
              "      <td>-1.152545</td>\n",
              "      <td>77.452686</td>\n",
              "      <td>9.552941</td>\n",
              "      <td>2006.135294</td>\n",
              "      <td>170</td>\n",
              "    </tr>\n",
              "    <tr>\n",
              "      <th>서초구</th>\n",
              "      <td>196129.880478</td>\n",
              "      <td>196646.605141</td>\n",
              "      <td>-516.724663</td>\n",
              "      <td>-1.586736</td>\n",
              "      <td>93.398056</td>\n",
              "      <td>9.059761</td>\n",
              "      <td>2001.314741</td>\n",
              "      <td>251</td>\n",
              "    </tr>\n",
              "    <tr>\n",
              "      <th>성동구</th>\n",
              "      <td>130835.428571</td>\n",
              "      <td>130631.199117</td>\n",
              "      <td>204.229454</td>\n",
              "      <td>-0.072679</td>\n",
              "      <td>77.685180</td>\n",
              "      <td>10.388571</td>\n",
              "      <td>2004.714286</td>\n",
              "      <td>175</td>\n",
              "    </tr>\n",
              "    <tr>\n",
              "      <th>성북구</th>\n",
              "      <td>81883.829787</td>\n",
              "      <td>81994.160911</td>\n",
              "      <td>-110.331123</td>\n",
              "      <td>-0.391621</td>\n",
              "      <td>76.800253</td>\n",
              "      <td>9.276596</td>\n",
              "      <td>2005.412766</td>\n",
              "      <td>235</td>\n",
              "    </tr>\n",
              "    <tr>\n",
              "      <th>송파구</th>\n",
              "      <td>144453.333333</td>\n",
              "      <td>144065.623837</td>\n",
              "      <td>387.709497</td>\n",
              "      <td>-0.099906</td>\n",
              "      <td>81.602454</td>\n",
              "      <td>9.515556</td>\n",
              "      <td>1998.431111</td>\n",
              "      <td>225</td>\n",
              "    </tr>\n",
              "    <tr>\n",
              "      <th>양천구</th>\n",
              "      <td>102555.956679</td>\n",
              "      <td>102546.249597</td>\n",
              "      <td>9.707081</td>\n",
              "      <td>-0.827610</td>\n",
              "      <td>77.073678</td>\n",
              "      <td>7.465704</td>\n",
              "      <td>1998.877256</td>\n",
              "      <td>277</td>\n",
              "    </tr>\n",
              "    <tr>\n",
              "      <th>영등포구</th>\n",
              "      <td>103444.063927</td>\n",
              "      <td>103594.708288</td>\n",
              "      <td>-150.644361</td>\n",
              "      <td>-1.384206</td>\n",
              "      <td>75.817689</td>\n",
              "      <td>9.000000</td>\n",
              "      <td>1998.488584</td>\n",
              "      <td>219</td>\n",
              "    </tr>\n",
              "    <tr>\n",
              "      <th>용산구</th>\n",
              "      <td>168577.011494</td>\n",
              "      <td>169813.060195</td>\n",
              "      <td>-1236.048701</td>\n",
              "      <td>-1.194950</td>\n",
              "      <td>101.246216</td>\n",
              "      <td>9.885057</td>\n",
              "      <td>1997.609195</td>\n",
              "      <td>87</td>\n",
              "    </tr>\n",
              "    <tr>\n",
              "      <th>은평구</th>\n",
              "      <td>73330.751445</td>\n",
              "      <td>73376.896647</td>\n",
              "      <td>-46.145202</td>\n",
              "      <td>-0.461738</td>\n",
              "      <td>71.781039</td>\n",
              "      <td>7.658960</td>\n",
              "      <td>2008.763006</td>\n",
              "      <td>173</td>\n",
              "    </tr>\n",
              "    <tr>\n",
              "      <th>종로구</th>\n",
              "      <td>94204.318182</td>\n",
              "      <td>95269.356134</td>\n",
              "      <td>-1065.037952</td>\n",
              "      <td>-3.088144</td>\n",
              "      <td>86.803780</td>\n",
              "      <td>6.727273</td>\n",
              "      <td>2002.204545</td>\n",
              "      <td>44</td>\n",
              "    </tr>\n",
              "    <tr>\n",
              "      <th>중구</th>\n",
              "      <td>63625.233645</td>\n",
              "      <td>63528.060779</td>\n",
              "      <td>97.172866</td>\n",
              "      <td>-0.151273</td>\n",
              "      <td>49.793601</td>\n",
              "      <td>11.205607</td>\n",
              "      <td>2011.429907</td>\n",
              "      <td>107</td>\n",
              "    </tr>\n",
              "    <tr>\n",
              "      <th>중랑구</th>\n",
              "      <td>57564.285714</td>\n",
              "      <td>58020.072750</td>\n",
              "      <td>-455.787036</td>\n",
              "      <td>-1.330647</td>\n",
              "      <td>65.283978</td>\n",
              "      <td>8.669173</td>\n",
              "      <td>2000.586466</td>\n",
              "      <td>133</td>\n",
              "    </tr>\n",
              "  </tbody>\n",
              "</table>\n",
              "</div>"
            ],
            "text/plain": [
              "               거래금액           예측금액           차이  ...          층         건축년도  count\n",
              "지역코드                                             ...                               \n",
              "강남구   182365.362776  182771.434278  -406.071502  ...   8.996845  1999.444795    317\n",
              "강동구   100335.347985  100383.228135   -47.880149  ...   9.802198  2005.468864    273\n",
              "강북구    62229.320388   62322.290585   -92.970196  ...   7.941748  2004.601942    103\n",
              "강서구    77377.275748   77460.619605   -83.343857  ...   7.813953  2001.202658    301\n",
              "관악구    72183.588235   72272.341751   -88.753515  ...   9.711765  2002.300000    170\n",
              "광진구   115427.528090  115024.146308   403.381782  ...  10.000000  2000.258427     89\n",
              "구로구    59989.340625   60149.380706  -160.040081  ...   9.440625  1999.471875    320\n",
              "금천구    58558.304348   59068.181405  -509.877058  ...  10.930435  2003.826087    115\n",
              "노원구    62249.908088   62290.580053   -40.671965  ...   7.838235  1994.027574    544\n",
              "도봉구    54592.689394   54723.753685  -131.064291  ...   7.250000  1994.700758    264\n",
              "동대문구   66043.501805   66182.669682  -139.167877  ...   9.057762  2009.350181    277\n",
              "동작구   113891.761364  114083.811139  -192.049776  ...   9.386364  2002.056818    176\n",
              "마포구   114088.669951  113531.303639   557.366312  ...   9.428571  2003.876847    203\n",
              "서대문구   94566.470588   95080.498125  -514.027537  ...   9.552941  2006.135294    170\n",
              "서초구   196129.880478  196646.605141  -516.724663  ...   9.059761  2001.314741    251\n",
              "성동구   130835.428571  130631.199117   204.229454  ...  10.388571  2004.714286    175\n",
              "성북구    81883.829787   81994.160911  -110.331123  ...   9.276596  2005.412766    235\n",
              "송파구   144453.333333  144065.623837   387.709497  ...   9.515556  1998.431111    225\n",
              "양천구   102555.956679  102546.249597     9.707081  ...   7.465704  1998.877256    277\n",
              "영등포구  103444.063927  103594.708288  -150.644361  ...   9.000000  1998.488584    219\n",
              "용산구   168577.011494  169813.060195 -1236.048701  ...   9.885057  1997.609195     87\n",
              "은평구    73330.751445   73376.896647   -46.145202  ...   7.658960  2008.763006    173\n",
              "종로구    94204.318182   95269.356134 -1065.037952  ...   6.727273  2002.204545     44\n",
              "중구     63625.233645   63528.060779    97.172866  ...  11.205607  2011.429907    107\n",
              "중랑구    57564.285714   58020.072750  -455.787036  ...   8.669173  2000.586466    133\n",
              "\n",
              "[25 rows x 8 columns]"
            ]
          },
          "metadata": {
            "tags": []
          },
          "execution_count": 27
        }
      ]
    },
    {
      "cell_type": "markdown",
      "metadata": {
        "id": "ycDoU_lWiLdX"
      },
      "source": [
        "## 2.5 시각화"
      ]
    },
    {
      "cell_type": "code",
      "metadata": {
        "colab": {
          "base_uri": "https://localhost:8080/",
          "height": 283
        },
        "id": "ntpHGXJiaWVW",
        "outputId": "faf871ea-5b3e-4951-a1ca-4c1698641e87"
      },
      "source": [
        "## 테스트 결과 시각화 (plot)\n",
        "df_pred.sort_values('차이(%)').reset_index()['차이(%)'].plot()"
      ],
      "execution_count": null,
      "outputs": [
        {
          "output_type": "execute_result",
          "data": {
            "text/plain": [
              "<matplotlib.axes._subplots.AxesSubplot at 0x7f09f70ca790>"
            ]
          },
          "metadata": {
            "tags": []
          },
          "execution_count": 29
        },
        {
          "output_type": "display_data",
          "data": {
            "image/png": "[encoded data removed]",
            "text/plain": [
              "<Figure size 432x288 with 1 Axes>"
            ]
          },
          "metadata": {
            "tags": [],
            "image/png": {
              "height": 248,
              "width": 379
            },
            "needs_background": "light"
          }
        }
      ]
    },
    {
      "cell_type": "code",
      "metadata": {
        "colab": {
          "base_uri": "https://localhost:8080/",
          "height": 625
        },
        "id": "6C7Xoypsa0Gh",
        "outputId": "c9914289-e327-4823-e32d-e11270fdedc3"
      },
      "source": [
        "## 테스트 결과 시각화 (dist)\n",
        "plt.figure(figsize=(20,10))\n",
        "plt.xlim(-100,100)\n",
        "plt.axvline(0,color='r',alpha=0.4,linewidth=5)\n",
        "plt.title('오차의 분포')\n",
        "df_pred['차이(%)'].hist(bins=300,alpha=0.5)"
      ],
      "execution_count": null,
      "outputs": [
        {
          "output_type": "execute_result",
          "data": {
            "text/plain": [
              "<matplotlib.axes._subplots.AxesSubplot at 0x7f09f626e910>"
            ]
          },
          "metadata": {
            "tags": []
          },
          "execution_count": 32
        },
        {
          "output_type": "stream",
          "text": [
            "findfont: Font family ['nanummyeongjo'] not found. Falling back to DejaVu Sans.\n"
          ],
          "name": "stderr"
        },
        {
          "output_type": "display_data",
          "data": {
            "image/png": "[encoded data removed]",
            "text/plain": [
              "<Figure size 1440x720 with 1 Axes>"
            ]
          },
          "metadata": {
            "tags": [],
            "image/png": {
              "height": 590,
              "width": 1166
            },
            "needs_background": "light"
          }
        }
      ]
    },
    {
      "cell_type": "code",
      "metadata": {
        "colab": {
          "base_uri": "https://localhost:8080/",
          "height": 608
        },
        "id": "jW3ui2jKbC5X",
        "outputId": "f04d978b-43d0-431c-8742-3903b04a06b8"
      },
      "source": [
        "## BLUE ZONE\n",
        "plt.figure(figsize=(10,10))\n",
        "plt.xlim(0,600000)\n",
        "plt.ylim(0,600000)\n",
        "sns.scatterplot(df_pred.예측금액, df_pred.거래금액,hue=df_pred.지역코드)\n",
        "sns.lineplot((0,600000),(0,600000),linewidth=20,color='b',alpha=0.2);"
      ],
      "execution_count": null,
      "outputs": [
        {
          "output_type": "display_data",
          "data": {
            "image/png": "[encoded data removed]",
            "text/plain": [
              "<Figure size 720x720 with 1 Axes>"
            ]
          },
          "metadata": {
            "tags": [],
            "image/png": {
              "height": 591,
              "width": 650
            },
            "needs_background": "light"
          }
        }
      ]
    },
    {
      "cell_type": "markdown",
      "metadata": {
        "id": "Mmjw8ScJiODE"
      },
      "source": [
        "## 2.6 훈련모델 저장"
      ]
    },
    {
      "cell_type": "code",
      "metadata": {
        "colab": {
          "base_uri": "https://localhost:8080/"
        },
        "id": "xyvjFxYYiAzL",
        "outputId": "6664b311-0cf2-410d-abb7-0f96f7cf3af6"
      },
      "source": [
        "from sklearn.externals import joblib\n",
        "# save model\n",
        "joblib.dump(lightGB, 'lgb.pkl')"
      ],
      "execution_count": null,
      "outputs": [
        {
          "output_type": "execute_result",
          "data": {
            "text/plain": [
              "['lgb.pkl']"
            ]
          },
          "metadata": {
            "tags": []
          },
          "execution_count": 37
        }
      ]
    },
    {
      "cell_type": "code",
      "metadata": {
        "id": "WJX1qlLOl52h"
      },
      "source": [
        "# load model\n",
        "lgbm_pickle = joblib.load('lgb.pkl')"
      ],
      "execution_count": null,
      "outputs": []
    },
    {
      "cell_type": "code",
      "metadata": {
        "colab": {
          "base_uri": "https://localhost:8080/"
        },
        "id": "40n-gtHFmPp4",
        "outputId": "8d2f65a9-dd25-49bd-9624-390ffac01a81"
      },
      "source": [
        "lgbm_pickle"
      ],
      "execution_count": null,
      "outputs": [
        {
          "output_type": "execute_result",
          "data": {
            "text/plain": [
              "LGBMRegressor(boosting_type='gbdt', class_weight=None, colsample_bytree=1.0,\n",
              "              importance_type='split', learning_rate=0.01, max_depth=15,\n",
              "              min_child_samples=20, min_child_weight=0.001, min_split_gain=0.0,\n",
              "              n_estimators=300000, n_jobs=-1, num_leaves=250, objective=None,\n",
              "              random_state=1, reg_alpha=1, reg_lambda=1, silent=True,\n",
              "              subsample=0.7, subsample_for_bin=200000, subsample_freq=0)"
            ]
          },
          "metadata": {
            "tags": []
          },
          "execution_count": 39
        }
      ]
    },
    {
      "cell_type": "code",
      "metadata": {
        "colab": {
          "base_uri": "https://localhost:8080/"
        },
        "id": "jQc2OxhRnDzf",
        "outputId": "d2f90209-28f8-4f72-cd3b-08ac46968ffd"
      },
      "source": [
        "lgbm_pickle.predict(X_test_encoded.iloc[[1]])"
      ],
      "execution_count": null,
      "outputs": [
        {
          "output_type": "execute_result",
          "data": {
            "text/plain": [
              "array([113347.852677])"
            ]
          },
          "metadata": {
            "tags": []
          },
          "execution_count": 40
        }
      ]
    }
  ]
}